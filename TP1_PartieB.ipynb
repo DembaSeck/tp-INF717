{
 "cells": [
  {
   "cell_type": "markdown",
   "id": "471f8852",
   "metadata": {},
   "source": [
    "Plan d’organisation pour la Partie B, inspiré de la Partie A, pour entraîner un classifieur de priorité avec BARThez.  \n",
    "\n",
    "\n",
    "---\n",
    "\n",
    "## 1. Membres de l’équipe\n",
    "   \n",
    "- Demba Seck secd1700  \n",
    "- Cheikh Tidiane Gueye\n",
    "- Fatou Bintou Boye boyf7012 \n",
    "\n",
    "\n",
    "---\n",
    "\n",
    "## 2. Télécharger et préparer le jeu de données\n"
   ]
  },
  {
   "cell_type": "code",
   "execution_count": 1,
   "id": "0b053405",
   "metadata": {},
   "outputs": [
    {
     "name": "stdout",
     "output_type": "stream",
     "text": [
      "Téléchargement terminé !\n"
     ]
    }
   ],
   "source": [
    "import urllib.request\n",
    "\n",
    "url = 'https://drive.google.com/uc?export=download&id=13ZfF8DjSvqPJkrY93GJTK2l14IwLVLZ0'\n",
    "urllib.request.urlretrieve(url, 'IT_Support_Tickets_FR_200.csv')\n",
    "print('Téléchargement terminé !')"
   ]
  },
  {
   "cell_type": "markdown",
   "id": "99bcc3df",
   "metadata": {},
   "source": [
    "\n",
    "\n",
    "---\n",
    "\n",
    "## 3. Charger le DataFrame et afficher les colonnes\n"
   ]
  },
  {
   "cell_type": "code",
   "execution_count": 2,
   "id": "9e3f6855",
   "metadata": {},
   "outputs": [
    {
     "name": "stdout",
     "output_type": "stream",
     "text": [
      "Index(['ID Ticket', 'Date', 'Client', 'Description', 'Type de problème',\n",
      "       'Priorité'],\n",
      "      dtype='object')\n"
     ]
    },
    {
     "data": {
      "text/html": [
       "<div>\n",
       "<style scoped>\n",
       "    .dataframe tbody tr th:only-of-type {\n",
       "        vertical-align: middle;\n",
       "    }\n",
       "\n",
       "    .dataframe tbody tr th {\n",
       "        vertical-align: top;\n",
       "    }\n",
       "\n",
       "    .dataframe thead th {\n",
       "        text-align: right;\n",
       "    }\n",
       "</style>\n",
       "<table border=\"1\" class=\"dataframe\">\n",
       "  <thead>\n",
       "    <tr style=\"text-align: right;\">\n",
       "      <th></th>\n",
       "      <th>ID Ticket</th>\n",
       "      <th>Date</th>\n",
       "      <th>Client</th>\n",
       "      <th>Description</th>\n",
       "      <th>Type de problème</th>\n",
       "      <th>Priorité</th>\n",
       "    </tr>\n",
       "  </thead>\n",
       "  <tbody>\n",
       "    <tr>\n",
       "      <th>0</th>\n",
       "      <td>1</td>\n",
       "      <td>2023-10-01</td>\n",
       "      <td>Service Finances</td>\n",
       "      <td>L'ordinateur ne s'allume pas après une mise à ...</td>\n",
       "      <td>Matériel</td>\n",
       "      <td>Élevée</td>\n",
       "    </tr>\n",
       "    <tr>\n",
       "      <th>1</th>\n",
       "      <td>2</td>\n",
       "      <td>2023-10-01</td>\n",
       "      <td>Marketing</td>\n",
       "      <td>Impossible d'accéder à Outlook - erreur \"Compt...</td>\n",
       "      <td>Compte/Mot de passe</td>\n",
       "      <td>Moyenne</td>\n",
       "    </tr>\n",
       "    <tr>\n",
       "      <th>2</th>\n",
       "      <td>3</td>\n",
       "      <td>2023-10-02</td>\n",
       "      <td>RH</td>\n",
       "      <td>Le logiciel SAP plante fréquemment lors de la ...</td>\n",
       "      <td>Logiciel</td>\n",
       "      <td>Élevée</td>\n",
       "    </tr>\n",
       "    <tr>\n",
       "      <th>3</th>\n",
       "      <td>4</td>\n",
       "      <td>2023-10-02</td>\n",
       "      <td>IT Support</td>\n",
       "      <td>Connexion Wi-Fi lente dans le bâtiment B</td>\n",
       "      <td>Réseau</td>\n",
       "      <td>Moyenne</td>\n",
       "    </tr>\n",
       "    <tr>\n",
       "      <th>4</th>\n",
       "      <td>5</td>\n",
       "      <td>2023-10-03</td>\n",
       "      <td>Direction</td>\n",
       "      <td>Impossible d'imprimer depuis le nouveau copieur</td>\n",
       "      <td>Matériel</td>\n",
       "      <td>Élevée</td>\n",
       "    </tr>\n",
       "  </tbody>\n",
       "</table>\n",
       "</div>"
      ],
      "text/plain": [
       "   ID Ticket        Date            Client  \\\n",
       "0          1  2023-10-01  Service Finances   \n",
       "1          2  2023-10-01         Marketing   \n",
       "2          3  2023-10-02                RH   \n",
       "3          4  2023-10-02        IT Support   \n",
       "4          5  2023-10-03         Direction   \n",
       "\n",
       "                                         Description     Type de problème  \\\n",
       "0  L'ordinateur ne s'allume pas après une mise à ...             Matériel   \n",
       "1  Impossible d'accéder à Outlook - erreur \"Compt...  Compte/Mot de passe   \n",
       "2  Le logiciel SAP plante fréquemment lors de la ...             Logiciel   \n",
       "3           Connexion Wi-Fi lente dans le bâtiment B               Réseau   \n",
       "4    Impossible d'imprimer depuis le nouveau copieur             Matériel   \n",
       "\n",
       "  Priorité  \n",
       "0   Élevée  \n",
       "1  Moyenne  \n",
       "2   Élevée  \n",
       "3  Moyenne  \n",
       "4   Élevée  "
      ]
     },
     "execution_count": 2,
     "metadata": {},
     "output_type": "execute_result"
    }
   ],
   "source": [
    "import pandas as pd\n",
    "df = pd.read_csv(\"IT_Support_Tickets_FR_200.csv\")\n",
    "print(df.columns)\n",
    "df.head()"
   ]
  },
  {
   "cell_type": "markdown",
   "id": "2a1c5e3d",
   "metadata": {},
   "source": [
    "\n",
    "\n",
    "---\n",
    "\n",
    "## 4. Préparer les données pour la classification de priorité\n"
   ]
  },
  {
   "cell_type": "code",
   "execution_count": 3,
   "id": "1b51e09d",
   "metadata": {},
   "outputs": [
    {
     "data": {
      "text/html": [
       "<div>\n",
       "<style scoped>\n",
       "    .dataframe tbody tr th:only-of-type {\n",
       "        vertical-align: middle;\n",
       "    }\n",
       "\n",
       "    .dataframe tbody tr th {\n",
       "        vertical-align: top;\n",
       "    }\n",
       "\n",
       "    .dataframe thead th {\n",
       "        text-align: right;\n",
       "    }\n",
       "</style>\n",
       "<table border=\"1\" class=\"dataframe\">\n",
       "  <thead>\n",
       "    <tr style=\"text-align: right;\">\n",
       "      <th></th>\n",
       "      <th>Description</th>\n",
       "      <th>Priorité</th>\n",
       "    </tr>\n",
       "  </thead>\n",
       "  <tbody>\n",
       "    <tr>\n",
       "      <th>0</th>\n",
       "      <td>L'ordinateur ne s'allume pas après une mise à ...</td>\n",
       "      <td>Élevée</td>\n",
       "    </tr>\n",
       "    <tr>\n",
       "      <th>1</th>\n",
       "      <td>Impossible d'accéder à Outlook - erreur \"Compt...</td>\n",
       "      <td>Moyenne</td>\n",
       "    </tr>\n",
       "    <tr>\n",
       "      <th>2</th>\n",
       "      <td>Le logiciel SAP plante fréquemment lors de la ...</td>\n",
       "      <td>Élevée</td>\n",
       "    </tr>\n",
       "    <tr>\n",
       "      <th>3</th>\n",
       "      <td>Connexion Wi-Fi lente dans le bâtiment B</td>\n",
       "      <td>Moyenne</td>\n",
       "    </tr>\n",
       "    <tr>\n",
       "      <th>4</th>\n",
       "      <td>Impossible d'imprimer depuis le nouveau copieur</td>\n",
       "      <td>Élevée</td>\n",
       "    </tr>\n",
       "  </tbody>\n",
       "</table>\n",
       "</div>"
      ],
      "text/plain": [
       "                                         Description Priorité\n",
       "0  L'ordinateur ne s'allume pas après une mise à ...   Élevée\n",
       "1  Impossible d'accéder à Outlook - erreur \"Compt...  Moyenne\n",
       "2  Le logiciel SAP plante fréquemment lors de la ...   Élevée\n",
       "3           Connexion Wi-Fi lente dans le bâtiment B  Moyenne\n",
       "4    Impossible d'imprimer depuis le nouveau copieur   Élevée"
      ]
     },
     "execution_count": 3,
     "metadata": {},
     "output_type": "execute_result"
    }
   ],
   "source": [
    "# On retire les colonnes inutiles\n",
    "colonnes_a_retirer = ['ID Ticket', 'Date', 'Client', 'Type de problème']\n",
    "df_priorite = df.drop(columns=colonnes_a_retirer)\n",
    "df_priorite.head()"
   ]
  },
  {
   "cell_type": "markdown",
   "id": "db1c92ea",
   "metadata": {},
   "source": [
    "\n",
    "\n",
    "---\n",
    "\n",
    "## 5. Encoder la priorité\n"
   ]
  },
  {
   "cell_type": "code",
   "execution_count": 4,
   "id": "4c33a50a",
   "metadata": {},
   "outputs": [
    {
     "data": {
      "text/html": [
       "<div>\n",
       "<style scoped>\n",
       "    .dataframe tbody tr th:only-of-type {\n",
       "        vertical-align: middle;\n",
       "    }\n",
       "\n",
       "    .dataframe tbody tr th {\n",
       "        vertical-align: top;\n",
       "    }\n",
       "\n",
       "    .dataframe thead th {\n",
       "        text-align: right;\n",
       "    }\n",
       "</style>\n",
       "<table border=\"1\" class=\"dataframe\">\n",
       "  <thead>\n",
       "    <tr style=\"text-align: right;\">\n",
       "      <th></th>\n",
       "      <th>Description</th>\n",
       "      <th>Priorité</th>\n",
       "      <th>Classe</th>\n",
       "    </tr>\n",
       "  </thead>\n",
       "  <tbody>\n",
       "    <tr>\n",
       "      <th>0</th>\n",
       "      <td>L'ordinateur ne s'allume pas après une mise à ...</td>\n",
       "      <td>Élevée</td>\n",
       "      <td>2</td>\n",
       "    </tr>\n",
       "    <tr>\n",
       "      <th>1</th>\n",
       "      <td>Impossible d'accéder à Outlook - erreur \"Compt...</td>\n",
       "      <td>Moyenne</td>\n",
       "      <td>1</td>\n",
       "    </tr>\n",
       "    <tr>\n",
       "      <th>2</th>\n",
       "      <td>Le logiciel SAP plante fréquemment lors de la ...</td>\n",
       "      <td>Élevée</td>\n",
       "      <td>2</td>\n",
       "    </tr>\n",
       "    <tr>\n",
       "      <th>3</th>\n",
       "      <td>Connexion Wi-Fi lente dans le bâtiment B</td>\n",
       "      <td>Moyenne</td>\n",
       "      <td>1</td>\n",
       "    </tr>\n",
       "    <tr>\n",
       "      <th>4</th>\n",
       "      <td>Impossible d'imprimer depuis le nouveau copieur</td>\n",
       "      <td>Élevée</td>\n",
       "      <td>2</td>\n",
       "    </tr>\n",
       "  </tbody>\n",
       "</table>\n",
       "</div>"
      ],
      "text/plain": [
       "                                         Description Priorité  Classe\n",
       "0  L'ordinateur ne s'allume pas après une mise à ...   Élevée       2\n",
       "1  Impossible d'accéder à Outlook - erreur \"Compt...  Moyenne       1\n",
       "2  Le logiciel SAP plante fréquemment lors de la ...   Élevée       2\n",
       "3           Connexion Wi-Fi lente dans le bâtiment B  Moyenne       1\n",
       "4    Impossible d'imprimer depuis le nouveau copieur   Élevée       2"
      ]
     },
     "execution_count": 4,
     "metadata": {},
     "output_type": "execute_result"
    }
   ],
   "source": [
    "from sklearn.preprocessing import LabelEncoder\n",
    "\n",
    "encodeur_priorite = LabelEncoder()\n",
    "df_priorite['Classe'] = encodeur_priorite.fit_transform(df_priorite['Priorité'])\n",
    "df_priorite.head()"
   ]
  },
  {
   "cell_type": "markdown",
   "id": "dad434b3",
   "metadata": {},
   "source": [
    "\n",
    "\n",
    "---\n",
    "\n",
    "## 6. Split train/val/test\n"
   ]
  },
  {
   "cell_type": "code",
   "execution_count": 5,
   "id": "59948670",
   "metadata": {},
   "outputs": [
    {
     "name": "stdout",
     "output_type": "stream",
     "text": [
      "120 40 40\n"
     ]
    }
   ],
   "source": [
    "from sklearn.model_selection import train_test_split\n",
    "\n",
    "X = df_priorite['Description']\n",
    "y = df_priorite['Classe']\n",
    "\n",
    "X_temp, X_test, y_temp, y_test = train_test_split(X, y, test_size=0.2, random_state=42, stratify=y)\n",
    "X_train, X_val, y_train, y_val = train_test_split(X_temp, y_temp, test_size=0.25, random_state=42, stratify=y_temp)\n",
    "\n",
    "print(len(X_train), len(X_val), len(X_test))"
   ]
  },
  {
   "cell_type": "markdown",
   "id": "54b89b1b",
   "metadata": {},
   "source": [
    "\n",
    "\n",
    "---\n",
    "\n",
    "## 7. Tokenizer BARThez\n"
   ]
  },
  {
   "cell_type": "code",
   "execution_count": 6,
   "id": "c94e6a5c",
   "metadata": {},
   "outputs": [
    {
     "name": "stderr",
     "output_type": "stream",
     "text": [
      "/usr/local/python/3.12.1/lib/python3.12/site-packages/tqdm/auto.py:21: TqdmWarning: IProgress not found. Please update jupyter and ipywidgets. See https://ipywidgets.readthedocs.io/en/stable/user_install.html\n",
      "  from .autonotebook import tqdm as notebook_tqdm\n"
     ]
    }
   ],
   "source": [
    "from transformers import AutoTokenizer\n",
    "\n",
    "tokenizer = AutoTokenizer.from_pretrained(\"moussaKam/barthez\")\n",
    "X_train_list = X_train.tolist()\n",
    "X_val_list = X_val.tolist()\n",
    "X_test_list = X_test.tolist()\n",
    "\n",
    "train_tokens = tokenizer(X_train_list, padding=True, truncation=True, return_tensors=\"pt\")\n",
    "val_tokens = tokenizer(X_val_list, padding=True, truncation=True, return_tensors=\"pt\")\n",
    "test_tokens = tokenizer(X_test_list, padding=True, truncation=True, return_tensors=\"pt\")"
   ]
  },
  {
   "cell_type": "markdown",
   "id": "cfc437e3",
   "metadata": {},
   "source": [
    "\n",
    "\n",
    "---\n",
    "\n",
    "## 8. Dataset PyTorch\n"
   ]
  },
  {
   "cell_type": "code",
   "execution_count": 7,
   "id": "a6deb564",
   "metadata": {},
   "outputs": [],
   "source": [
    "from torch.utils.data import Dataset\n",
    "import torch\n",
    "\n",
    "class TicketDataset(Dataset):\n",
    "    def __init__(self, encodings, labels):\n",
    "        self.encodings = encodings\n",
    "        self.labels = labels\n",
    "\n",
    "    def __len__(self):\n",
    "        return len(self.labels)\n",
    "\n",
    "    def __getitem__(self, idx):\n",
    "        item = {key: val[idx] for key, val in self.encodings.items()}\n",
    "        item[\"labels\"] = torch.tensor(self.labels[idx], dtype=torch.long)\n",
    "        return item\n",
    "\n",
    "train_dataset = TicketDataset(train_tokens, y_train.tolist())\n",
    "val_dataset = TicketDataset(val_tokens, y_val.tolist())\n",
    "test_dataset = TicketDataset(test_tokens, y_test.tolist())"
   ]
  },
  {
   "cell_type": "markdown",
   "id": "b67e7432",
   "metadata": {},
   "source": [
    "\n",
    "\n",
    "---\n",
    "\n",
    "## 9. Modèle BARThez pour classification\n"
   ]
  },
  {
   "cell_type": "code",
   "execution_count": 8,
   "id": "8143ec51",
   "metadata": {},
   "outputs": [
    {
     "name": "stderr",
     "output_type": "stream",
     "text": [
      "Some weights of MBartForSequenceClassification were not initialized from the model checkpoint at moussaKam/barthez and are newly initialized: ['classification_head.dense.bias', 'classification_head.dense.weight', 'classification_head.out_proj.bias', 'classification_head.out_proj.weight']\n",
      "You should probably TRAIN this model on a down-stream task to be able to use it for predictions and inference.\n"
     ]
    }
   ],
   "source": [
    "from transformers import AutoModelForSequenceClassification\n",
    "\n",
    "n_classes = len(df_priorite['Classe'].unique())\n",
    "model = AutoModelForSequenceClassification.from_pretrained(\"moussaKam/barthez\", num_labels=n_classes)"
   ]
  },
  {
   "cell_type": "markdown",
   "id": "0804ce77",
   "metadata": {},
   "source": [
    "\n",
    "\n",
    "---\n",
    "\n",
    "## 10. Entraînement du modèle\n"
   ]
  },
  {
   "cell_type": "code",
   "execution_count": 9,
   "id": "2068b702",
   "metadata": {},
   "outputs": [],
   "source": [
    "from transformers import TrainingArguments, Trainer\n",
    "\n",
    "training_args = TrainingArguments(\n",
    "    output_dir=\"./results\",\n",
    "    learning_rate=2e-5,\n",
    "    per_device_train_batch_size=8,\n",
    "    per_device_eval_batch_size=8,\n",
    "    num_train_epochs=5,\n",
    "    weight_decay=0.01,\n",
    "    logging_dir=\"./logs\",\n",
    ")\n",
    "\n",
    "import numpy as np\n",
    "from sklearn.metrics import accuracy_score, f1_score\n",
    "\n",
    "def compute_metrics(eval_pred):\n",
    "    predictions, labels = eval_pred\n",
    "    if isinstance(predictions, tuple):\n",
    "        predictions = predictions[0]\n",
    "    preds = np.argmax(predictions, axis=1)\n",
    "    return {\n",
    "        \"accuracy\": accuracy_score(labels, preds),\n",
    "        \"f1\": f1_score(labels, preds, average=\"weighted\")\n",
    "    }\n",
    "\n",
    "trainer = Trainer(\n",
    "    model=model,\n",
    "    args=training_args,\n",
    "    train_dataset=train_dataset,\n",
    "    eval_dataset=val_dataset,\n",
    "    compute_metrics=compute_metrics\n",
    ")"
   ]
  },
  {
   "cell_type": "markdown",
   "id": "1e02d3e1",
   "metadata": {},
   "source": [
    "\n",
    "\n",
    "---\n",
    "\n",
    "## 11. Lancer l’entraînement\n"
   ]
  },
  {
   "cell_type": "code",
   "execution_count": null,
   "id": "c7f7ed22",
   "metadata": {},
   "outputs": [
    {
     "name": "stderr",
     "output_type": "stream",
     "text": [
      "\u001b[34m\u001b[1mwandb\u001b[0m: \u001b[33mWARNING\u001b[0m The `run_name` is currently set to the same value as `TrainingArguments.output_dir`. If this was not intended, please specify a different run name by setting the `TrainingArguments.run_name` parameter.\n",
      "\u001b[34m\u001b[1mwandb\u001b[0m: Logging into wandb.ai. (Learn how to deploy a W&B server locally: https://wandb.me/wandb-server)\n",
      "\u001b[34m\u001b[1mwandb\u001b[0m: You can find your API key in your browser here: https://wandb.ai/authorize?ref=models\n",
      "\u001b[34m\u001b[1mwandb\u001b[0m: Paste an API key from your profile and hit enter:"
     ]
    }
   ],
   "source": [
    "trainer.train()"
   ]
  },
  {
   "cell_type": "markdown",
   "id": "1141d05f",
   "metadata": {},
   "source": [
    "\n",
    "\n",
    "---\n",
    "\n",
    "## 12. Évaluer sur le jeu de test\n"
   ]
  },
  {
   "cell_type": "code",
   "execution_count": null,
   "id": "7b2722c5",
   "metadata": {},
   "outputs": [],
   "source": [
    "test_metrics = trainer.evaluate(test_dataset)\n",
    "print(test_metrics)"
   ]
  },
  {
   "cell_type": "markdown",
   "id": "a4182dbc",
   "metadata": {},
   "source": [
    "\n",
    "\n",
    "---\n",
    "\n",
    "## 13. Afficher les prédictions (optionnel)\n"
   ]
  },
  {
   "cell_type": "code",
   "execution_count": null,
   "id": "fb8a681d",
   "metadata": {},
   "outputs": [],
   "source": [
    "predictions = trainer.predict(test_dataset)\n",
    "logits = predictions.predictions\n",
    "if isinstance(logits, tuple):\n",
    "    logits = logits[0]\n",
    "pred_labels = np.argmax(logits, axis=1)\n",
    "true_labels = predictions.label_ids\n",
    "\n",
    "for i in range(len(test_dataset)):\n",
    "    print(\"Description:\", X_test.iloc[i])\n",
    "    print(\"True label:\", encodeur_priorite.inverse_transform([true_labels[i]])[0])\n",
    "    print(\"Predicted:\", encodeur_priorite.inverse_transform([pred_labels[i]])[0])\n",
    "    print(\"-\" * 50)"
   ]
  },
  {
   "cell_type": "markdown",
   "id": "58283998",
   "metadata": {},
   "source": [
    "\n",
    "\n",
    "---\n",
    "\n",
    "## 14. Résultats (cellule texte)\n",
    "Indiquez ici le score F1 obtenu sur le jeu de test.\n",
    "\n",
    "---\n",
    "\n",
    "Adapte chaque cellule selon tes besoins.  \n",
    "N’oublie pas d’expliquer chaque étape dans des cellules texte !"
   ]
  }
 ],
 "metadata": {
  "kernelspec": {
   "display_name": "Python 3",
   "language": "python",
   "name": "python3"
  },
  "language_info": {
   "codemirror_mode": {
    "name": "ipython",
    "version": 3
   },
   "file_extension": ".py",
   "mimetype": "text/x-python",
   "name": "python",
   "nbconvert_exporter": "python",
   "pygments_lexer": "ipython3",
   "version": "3.12.1"
  }
 },
 "nbformat": 4,
 "nbformat_minor": 5
}
