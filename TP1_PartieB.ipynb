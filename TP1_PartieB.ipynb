{
 "cells": [
  {
   "cell_type": "markdown",
   "id": "471f8852",
   "metadata": {},
   "source": [
    "Plan d’organisation pour la Partie B, inspiré de la Partie A, pour entraîner un classifieur de priorité avec BARThez.  \n",
    "\n",
    "\n",
    "---\n",
    "\n",
    "## 1. Membres de l’équipe\n",
    "   \n",
    "- Demba Seck secd1700  \n",
    "- Cheikh Tidiane Gueye \n",
    "- Fatou Bintou Boye boyf7012 \n",
    "\n",
    "\n",
    "---\n",
    "\n",
    "## 2. Télécharger et préparer le jeu de données\n"
   ]
  },
  {
   "cell_type": "code",
   "execution_count": 2,
   "id": "0b053405",
   "metadata": {},
   "outputs": [
    {
     "name": "stdout",
     "output_type": "stream",
     "text": [
      "Téléchargement terminé !\n"
     ]
    }
   ],
   "source": [
    "import urllib.request\n",
    "\n",
    "url = 'https://drive.google.com/uc?export=download&id=13ZfF8DjSvqPJkrY93GJTK2l14IwLVLZ0'\n",
    "urllib.request.urlretrieve(url, 'IT_Support_Tickets_FR_200.csv')\n",
    "print('Téléchargement terminé !')"
   ]
  },
  {
   "cell_type": "markdown",
   "id": "99bcc3df",
   "metadata": {},
   "source": [
    "\n",
    "\n",
    "---\n",
    "\n",
    "## 3. Charger le DataFrame et afficher les colonnes\n"
   ]
  },
  {
   "cell_type": "code",
   "execution_count": 3,
   "id": "9e3f6855",
   "metadata": {},
   "outputs": [
    {
     "name": "stdout",
     "output_type": "stream",
     "text": [
      "Index(['ID Ticket', 'Date', 'Client', 'Description', 'Type de problème',\n",
      "       'Priorité'],\n",
      "      dtype='object')\n"
     ]
    },
    {
     "data": {
      "text/html": [
       "<div>\n",
       "<style scoped>\n",
       "    .dataframe tbody tr th:only-of-type {\n",
       "        vertical-align: middle;\n",
       "    }\n",
       "\n",
       "    .dataframe tbody tr th {\n",
       "        vertical-align: top;\n",
       "    }\n",
       "\n",
       "    .dataframe thead th {\n",
       "        text-align: right;\n",
       "    }\n",
       "</style>\n",
       "<table border=\"1\" class=\"dataframe\">\n",
       "  <thead>\n",
       "    <tr style=\"text-align: right;\">\n",
       "      <th></th>\n",
       "      <th>ID Ticket</th>\n",
       "      <th>Date</th>\n",
       "      <th>Client</th>\n",
       "      <th>Description</th>\n",
       "      <th>Type de problème</th>\n",
       "      <th>Priorité</th>\n",
       "    </tr>\n",
       "  </thead>\n",
       "  <tbody>\n",
       "    <tr>\n",
       "      <th>0</th>\n",
       "      <td>1</td>\n",
       "      <td>2023-10-01</td>\n",
       "      <td>Service Finances</td>\n",
       "      <td>L'ordinateur ne s'allume pas après une mise à ...</td>\n",
       "      <td>Matériel</td>\n",
       "      <td>Élevée</td>\n",
       "    </tr>\n",
       "    <tr>\n",
       "      <th>1</th>\n",
       "      <td>2</td>\n",
       "      <td>2023-10-01</td>\n",
       "      <td>Marketing</td>\n",
       "      <td>Impossible d'accéder à Outlook - erreur \"Compt...</td>\n",
       "      <td>Compte/Mot de passe</td>\n",
       "      <td>Moyenne</td>\n",
       "    </tr>\n",
       "    <tr>\n",
       "      <th>2</th>\n",
       "      <td>3</td>\n",
       "      <td>2023-10-02</td>\n",
       "      <td>RH</td>\n",
       "      <td>Le logiciel SAP plante fréquemment lors de la ...</td>\n",
       "      <td>Logiciel</td>\n",
       "      <td>Élevée</td>\n",
       "    </tr>\n",
       "    <tr>\n",
       "      <th>3</th>\n",
       "      <td>4</td>\n",
       "      <td>2023-10-02</td>\n",
       "      <td>IT Support</td>\n",
       "      <td>Connexion Wi-Fi lente dans le bâtiment B</td>\n",
       "      <td>Réseau</td>\n",
       "      <td>Moyenne</td>\n",
       "    </tr>\n",
       "    <tr>\n",
       "      <th>4</th>\n",
       "      <td>5</td>\n",
       "      <td>2023-10-03</td>\n",
       "      <td>Direction</td>\n",
       "      <td>Impossible d'imprimer depuis le nouveau copieur</td>\n",
       "      <td>Matériel</td>\n",
       "      <td>Élevée</td>\n",
       "    </tr>\n",
       "    <tr>\n",
       "      <th>...</th>\n",
       "      <td>...</td>\n",
       "      <td>...</td>\n",
       "      <td>...</td>\n",
       "      <td>...</td>\n",
       "      <td>...</td>\n",
       "      <td>...</td>\n",
       "    </tr>\n",
       "    <tr>\n",
       "      <th>195</th>\n",
       "      <td>196</td>\n",
       "      <td>2024-01-06</td>\n",
       "      <td>Comptabilité</td>\n",
       "      <td>Problème de calcul des amortissements</td>\n",
       "      <td>Logiciel</td>\n",
       "      <td>Élevée</td>\n",
       "    </tr>\n",
       "    <tr>\n",
       "      <th>196</th>\n",
       "      <td>197</td>\n",
       "      <td>2024-01-07</td>\n",
       "      <td>Ventes</td>\n",
       "      <td>Problème de tactile sur l'écran interactif</td>\n",
       "      <td>Matériel</td>\n",
       "      <td>Moyenne</td>\n",
       "    </tr>\n",
       "    <tr>\n",
       "      <th>197</th>\n",
       "      <td>198</td>\n",
       "      <td>2024-01-07</td>\n",
       "      <td>Service Client</td>\n",
       "      <td>Demande de configuration des signatures groupées</td>\n",
       "      <td>Compte/Mot de passe</td>\n",
       "      <td>Basse</td>\n",
       "    </tr>\n",
       "    <tr>\n",
       "      <th>198</th>\n",
       "      <td>199</td>\n",
       "      <td>2024-01-08</td>\n",
       "      <td>Logistique</td>\n",
       "      <td>Problème de synchronisation des inventaires</td>\n",
       "      <td>Logiciel</td>\n",
       "      <td>Moyenne</td>\n",
       "    </tr>\n",
       "    <tr>\n",
       "      <th>199</th>\n",
       "      <td>200</td>\n",
       "      <td>2024-01-08</td>\n",
       "      <td>R&amp;D</td>\n",
       "      <td>Problème de parallélisation des calculs</td>\n",
       "      <td>Logiciel</td>\n",
       "      <td>Élevée</td>\n",
       "    </tr>\n",
       "  </tbody>\n",
       "</table>\n",
       "<p>200 rows × 6 columns</p>\n",
       "</div>"
      ],
      "text/plain": [
       "     ID Ticket        Date            Client  \\\n",
       "0            1  2023-10-01  Service Finances   \n",
       "1            2  2023-10-01         Marketing   \n",
       "2            3  2023-10-02                RH   \n",
       "3            4  2023-10-02        IT Support   \n",
       "4            5  2023-10-03         Direction   \n",
       "..         ...         ...               ...   \n",
       "195        196  2024-01-06      Comptabilité   \n",
       "196        197  2024-01-07            Ventes   \n",
       "197        198  2024-01-07    Service Client   \n",
       "198        199  2024-01-08        Logistique   \n",
       "199        200  2024-01-08               R&D   \n",
       "\n",
       "                                           Description     Type de problème  \\\n",
       "0    L'ordinateur ne s'allume pas après une mise à ...             Matériel   \n",
       "1    Impossible d'accéder à Outlook - erreur \"Compt...  Compte/Mot de passe   \n",
       "2    Le logiciel SAP plante fréquemment lors de la ...             Logiciel   \n",
       "3             Connexion Wi-Fi lente dans le bâtiment B               Réseau   \n",
       "4      Impossible d'imprimer depuis le nouveau copieur             Matériel   \n",
       "..                                                 ...                  ...   \n",
       "195              Problème de calcul des amortissements             Logiciel   \n",
       "196         Problème de tactile sur l'écran interactif             Matériel   \n",
       "197   Demande de configuration des signatures groupées  Compte/Mot de passe   \n",
       "198        Problème de synchronisation des inventaires             Logiciel   \n",
       "199            Problème de parallélisation des calculs             Logiciel   \n",
       "\n",
       "    Priorité  \n",
       "0     Élevée  \n",
       "1    Moyenne  \n",
       "2     Élevée  \n",
       "3    Moyenne  \n",
       "4     Élevée  \n",
       "..       ...  \n",
       "195   Élevée  \n",
       "196  Moyenne  \n",
       "197    Basse  \n",
       "198  Moyenne  \n",
       "199   Élevée  \n",
       "\n",
       "[200 rows x 6 columns]"
      ]
     },
     "execution_count": 3,
     "metadata": {},
     "output_type": "execute_result"
    }
   ],
   "source": [
    "import pandas as pd\n",
    "df = pd.read_csv(\"IT_Support_Tickets_FR_200.csv\")\n",
    "print(df.columns)\n",
    "df"
   ]
  },
  {
   "cell_type": "markdown",
   "id": "2a1c5e3d",
   "metadata": {},
   "source": [
    "\n",
    "\n",
    "---\n",
    "\n",
    "## 4. Préparer les données pour la classification de priorité\n"
   ]
  },
  {
   "cell_type": "code",
   "execution_count": 4,
   "id": "1b51e09d",
   "metadata": {},
   "outputs": [
    {
     "data": {
      "text/html": [
       "<div>\n",
       "<style scoped>\n",
       "    .dataframe tbody tr th:only-of-type {\n",
       "        vertical-align: middle;\n",
       "    }\n",
       "\n",
       "    .dataframe tbody tr th {\n",
       "        vertical-align: top;\n",
       "    }\n",
       "\n",
       "    .dataframe thead th {\n",
       "        text-align: right;\n",
       "    }\n",
       "</style>\n",
       "<table border=\"1\" class=\"dataframe\">\n",
       "  <thead>\n",
       "    <tr style=\"text-align: right;\">\n",
       "      <th></th>\n",
       "      <th>Description</th>\n",
       "      <th>Priorité</th>\n",
       "    </tr>\n",
       "  </thead>\n",
       "  <tbody>\n",
       "    <tr>\n",
       "      <th>0</th>\n",
       "      <td>L'ordinateur ne s'allume pas après une mise à ...</td>\n",
       "      <td>Élevée</td>\n",
       "    </tr>\n",
       "    <tr>\n",
       "      <th>1</th>\n",
       "      <td>Impossible d'accéder à Outlook - erreur \"Compt...</td>\n",
       "      <td>Moyenne</td>\n",
       "    </tr>\n",
       "    <tr>\n",
       "      <th>2</th>\n",
       "      <td>Le logiciel SAP plante fréquemment lors de la ...</td>\n",
       "      <td>Élevée</td>\n",
       "    </tr>\n",
       "    <tr>\n",
       "      <th>3</th>\n",
       "      <td>Connexion Wi-Fi lente dans le bâtiment B</td>\n",
       "      <td>Moyenne</td>\n",
       "    </tr>\n",
       "    <tr>\n",
       "      <th>4</th>\n",
       "      <td>Impossible d'imprimer depuis le nouveau copieur</td>\n",
       "      <td>Élevée</td>\n",
       "    </tr>\n",
       "  </tbody>\n",
       "</table>\n",
       "</div>"
      ],
      "text/plain": [
       "                                         Description Priorité\n",
       "0  L'ordinateur ne s'allume pas après une mise à ...   Élevée\n",
       "1  Impossible d'accéder à Outlook - erreur \"Compt...  Moyenne\n",
       "2  Le logiciel SAP plante fréquemment lors de la ...   Élevée\n",
       "3           Connexion Wi-Fi lente dans le bâtiment B  Moyenne\n",
       "4    Impossible d'imprimer depuis le nouveau copieur   Élevée"
      ]
     },
     "execution_count": 4,
     "metadata": {},
     "output_type": "execute_result"
    }
   ],
   "source": [
    "# On retire les colonnes inutiles\n",
    "colonnes_a_retirer = ['ID Ticket', 'Date', 'Client', 'Type de problème']\n",
    "df_priorite = df.drop(columns=colonnes_a_retirer)\n",
    "df_priorite.head()"
   ]
  },
  {
   "cell_type": "markdown",
   "id": "db1c92ea",
   "metadata": {},
   "source": [
    "\n",
    "\n",
    "---\n",
    "\n",
    "## 5. Encoder la priorité\n"
   ]
  },
  {
   "cell_type": "code",
   "execution_count": 5,
   "id": "4c33a50a",
   "metadata": {},
   "outputs": [
    {
     "data": {
      "text/html": [
       "<div>\n",
       "<style scoped>\n",
       "    .dataframe tbody tr th:only-of-type {\n",
       "        vertical-align: middle;\n",
       "    }\n",
       "\n",
       "    .dataframe tbody tr th {\n",
       "        vertical-align: top;\n",
       "    }\n",
       "\n",
       "    .dataframe thead th {\n",
       "        text-align: right;\n",
       "    }\n",
       "</style>\n",
       "<table border=\"1\" class=\"dataframe\">\n",
       "  <thead>\n",
       "    <tr style=\"text-align: right;\">\n",
       "      <th></th>\n",
       "      <th>Description</th>\n",
       "      <th>Priorité</th>\n",
       "      <th>Classe</th>\n",
       "    </tr>\n",
       "  </thead>\n",
       "  <tbody>\n",
       "    <tr>\n",
       "      <th>0</th>\n",
       "      <td>L'ordinateur ne s'allume pas après une mise à ...</td>\n",
       "      <td>Élevée</td>\n",
       "      <td>2</td>\n",
       "    </tr>\n",
       "    <tr>\n",
       "      <th>1</th>\n",
       "      <td>Impossible d'accéder à Outlook - erreur \"Compt...</td>\n",
       "      <td>Moyenne</td>\n",
       "      <td>1</td>\n",
       "    </tr>\n",
       "    <tr>\n",
       "      <th>2</th>\n",
       "      <td>Le logiciel SAP plante fréquemment lors de la ...</td>\n",
       "      <td>Élevée</td>\n",
       "      <td>2</td>\n",
       "    </tr>\n",
       "    <tr>\n",
       "      <th>3</th>\n",
       "      <td>Connexion Wi-Fi lente dans le bâtiment B</td>\n",
       "      <td>Moyenne</td>\n",
       "      <td>1</td>\n",
       "    </tr>\n",
       "    <tr>\n",
       "      <th>4</th>\n",
       "      <td>Impossible d'imprimer depuis le nouveau copieur</td>\n",
       "      <td>Élevée</td>\n",
       "      <td>2</td>\n",
       "    </tr>\n",
       "    <tr>\n",
       "      <th>...</th>\n",
       "      <td>...</td>\n",
       "      <td>...</td>\n",
       "      <td>...</td>\n",
       "    </tr>\n",
       "    <tr>\n",
       "      <th>195</th>\n",
       "      <td>Problème de calcul des amortissements</td>\n",
       "      <td>Élevée</td>\n",
       "      <td>2</td>\n",
       "    </tr>\n",
       "    <tr>\n",
       "      <th>196</th>\n",
       "      <td>Problème de tactile sur l'écran interactif</td>\n",
       "      <td>Moyenne</td>\n",
       "      <td>1</td>\n",
       "    </tr>\n",
       "    <tr>\n",
       "      <th>197</th>\n",
       "      <td>Demande de configuration des signatures groupées</td>\n",
       "      <td>Basse</td>\n",
       "      <td>0</td>\n",
       "    </tr>\n",
       "    <tr>\n",
       "      <th>198</th>\n",
       "      <td>Problème de synchronisation des inventaires</td>\n",
       "      <td>Moyenne</td>\n",
       "      <td>1</td>\n",
       "    </tr>\n",
       "    <tr>\n",
       "      <th>199</th>\n",
       "      <td>Problème de parallélisation des calculs</td>\n",
       "      <td>Élevée</td>\n",
       "      <td>2</td>\n",
       "    </tr>\n",
       "  </tbody>\n",
       "</table>\n",
       "<p>200 rows × 3 columns</p>\n",
       "</div>"
      ],
      "text/plain": [
       "                                           Description Priorité  Classe\n",
       "0    L'ordinateur ne s'allume pas après une mise à ...   Élevée       2\n",
       "1    Impossible d'accéder à Outlook - erreur \"Compt...  Moyenne       1\n",
       "2    Le logiciel SAP plante fréquemment lors de la ...   Élevée       2\n",
       "3             Connexion Wi-Fi lente dans le bâtiment B  Moyenne       1\n",
       "4      Impossible d'imprimer depuis le nouveau copieur   Élevée       2\n",
       "..                                                 ...      ...     ...\n",
       "195              Problème de calcul des amortissements   Élevée       2\n",
       "196         Problème de tactile sur l'écran interactif  Moyenne       1\n",
       "197   Demande de configuration des signatures groupées    Basse       0\n",
       "198        Problème de synchronisation des inventaires  Moyenne       1\n",
       "199            Problème de parallélisation des calculs   Élevée       2\n",
       "\n",
       "[200 rows x 3 columns]"
      ]
     },
     "execution_count": 5,
     "metadata": {},
     "output_type": "execute_result"
    }
   ],
   "source": [
    "from sklearn.preprocessing import LabelEncoder\n",
    "\n",
    "encodeur_priorite = LabelEncoder()\n",
    "df_priorite['Classe'] = encodeur_priorite.fit_transform(df_priorite['Priorité'])\n",
    "df_priorite"
   ]
  },
  {
   "cell_type": "markdown",
   "id": "dad434b3",
   "metadata": {},
   "source": [
    "\n",
    "\n",
    "---\n",
    "\n",
    "## 6. Split train/val/test\n"
   ]
  },
  {
   "cell_type": "code",
   "execution_count": 6,
   "id": "59948670",
   "metadata": {},
   "outputs": [
    {
     "name": "stdout",
     "output_type": "stream",
     "text": [
      "120 40 40\n"
     ]
    }
   ],
   "source": [
    "from sklearn.model_selection import train_test_split\n",
    "\n",
    "X = df_priorite['Description']\n",
    "y = df_priorite['Classe']\n",
    "\n",
    "X_temp, X_test, y_temp, y_test = train_test_split(X, y, test_size=0.2, random_state=42, stratify=y)\n",
    "X_train, X_val, y_train, y_val = train_test_split(X_temp, y_temp, test_size=0.25, random_state=42, stratify=y_temp)\n",
    "\n",
    "print(len(X_train), len(X_val), len(X_test))"
   ]
  },
  {
   "cell_type": "markdown",
   "id": "54b89b1b",
   "metadata": {},
   "source": [
    "\n",
    "\n",
    "---\n",
    "\n",
    "## 7. Tokenizer BARThez\n"
   ]
  },
  {
   "cell_type": "code",
   "execution_count": 7,
   "id": "c94e6a5c",
   "metadata": {},
   "outputs": [
    {
     "name": "stderr",
     "output_type": "stream",
     "text": [
      "/usr/local/python/3.12.1/lib/python3.12/site-packages/tqdm/auto.py:21: TqdmWarning: IProgress not found. Please update jupyter and ipywidgets. See https://ipywidgets.readthedocs.io/en/stable/user_install.html\n",
      "  from .autonotebook import tqdm as notebook_tqdm\n"
     ]
    }
   ],
   "source": [
    "from transformers import AutoTokenizer\n",
    "\n",
    "tokenizer = AutoTokenizer.from_pretrained(\"moussaKam/barthez\")\n",
    "X_train_list = X_train.tolist()\n",
    "X_val_list = X_val.tolist()\n",
    "X_test_list = X_test.tolist()\n",
    "\n",
    "train_tokens = tokenizer(X_train_list, padding=True, truncation=True, return_tensors=\"pt\")\n",
    "val_tokens = tokenizer(X_val_list, padding=True, truncation=True, return_tensors=\"pt\")\n",
    "test_tokens = tokenizer(X_test_list, padding=True, truncation=True, return_tensors=\"pt\")"
   ]
  },
  {
   "cell_type": "markdown",
   "id": "cfc437e3",
   "metadata": {},
   "source": [
    "\n",
    "\n",
    "---\n",
    "\n",
    "## 8. Dataset PyTorch\n"
   ]
  },
  {
   "cell_type": "code",
   "execution_count": 8,
   "id": "a6deb564",
   "metadata": {},
   "outputs": [],
   "source": [
    "from torch.utils.data import Dataset\n",
    "import torch\n",
    "\n",
    "class TicketDataset(Dataset):\n",
    "    def __init__(self, encodings, labels):\n",
    "        self.encodings = encodings\n",
    "        self.labels = labels\n",
    "\n",
    "    def __len__(self):\n",
    "        return len(self.labels)\n",
    "\n",
    "    def __getitem__(self, idx):\n",
    "        item = {key: val[idx] for key, val in self.encodings.items()}\n",
    "        item[\"labels\"] = torch.tensor(self.labels[idx], dtype=torch.long)\n",
    "        return item\n",
    "\n",
    "train_dataset = TicketDataset(train_tokens, y_train.tolist())\n",
    "val_dataset = TicketDataset(val_tokens, y_val.tolist())\n",
    "test_dataset = TicketDataset(test_tokens, y_test.tolist())"
   ]
  },
  {
   "cell_type": "markdown",
   "id": "b67e7432",
   "metadata": {},
   "source": [
    "\n",
    "\n",
    "---\n",
    "\n",
    "## 9. Modèle BARThez pour classification\n"
   ]
  },
  {
   "cell_type": "code",
   "execution_count": 9,
   "id": "8143ec51",
   "metadata": {},
   "outputs": [
    {
     "name": "stderr",
     "output_type": "stream",
     "text": [
      "Some weights of MBartForSequenceClassification were not initialized from the model checkpoint at moussaKam/barthez and are newly initialized: ['classification_head.dense.bias', 'classification_head.dense.weight', 'classification_head.out_proj.bias', 'classification_head.out_proj.weight']\n",
      "You should probably TRAIN this model on a down-stream task to be able to use it for predictions and inference.\n"
     ]
    }
   ],
   "source": [
    "from transformers import AutoModelForSequenceClassification\n",
    "\n",
    "n_classes = len(df_priorite['Classe'].unique())\n",
    "model = AutoModelForSequenceClassification.from_pretrained(\"moussaKam/barthez\", num_labels=n_classes)"
   ]
  },
  {
   "cell_type": "markdown",
   "id": "0804ce77",
   "metadata": {},
   "source": [
    "\n",
    "\n",
    "---\n",
    "\n",
    "## 10. Entraînement du modèle\n"
   ]
  },
  {
   "cell_type": "code",
   "execution_count": null,
   "id": "2068b702",
   "metadata": {},
   "outputs": [
    {
     "ename": "",
     "evalue": "",
     "output_type": "error",
     "traceback": [
      "\u001b[1;31mLe noyau s’est bloqué lors de l’exécution du code dans une cellule active ou une cellule précédente. \n",
      "\u001b[1;31mVeuillez vérifier le code dans la ou les cellules pour identifier une cause possible de l’échec. \n",
      "\u001b[1;31mCliquez <a href='https://aka.ms/vscodeJupyterKernelCrash'>ici</a> pour plus d’informations. \n",
      "\u001b[1;31mPour plus d’informations, consultez Jupyter <a href='command:jupyter.viewOutput'>log</a>."
     ]
    }
   ],
   "source": [
    "from transformers import TrainingArguments, Trainer\n",
    "\n",
    "training_args = TrainingArguments(\n",
    "    output_dir=\"./results\",\n",
    "    learning_rate=2e-5,\n",
    "    per_device_train_batch_size=8,\n",
    "    per_device_eval_batch_size=8,\n",
    "    num_train_epochs=5,\n",
    "    weight_decay=0.01,\n",
    "    logging_dir=\"./logs\",\n",
    ")\n",
    "\n",
    "import numpy as np\n",
    "from sklearn.metrics import accuracy_score, f1_score\n",
    "\n",
    "def compute_metrics(eval_pred):\n",
    "    predictions, labels = eval_pred\n",
    "    if isinstance(predictions, tuple):\n",
    "        predictions = predictions[0]\n",
    "    preds = np.argmax(predictions, axis=1)\n",
    "    return {\n",
    "        \"accuracy\": accuracy_score(labels, preds),\n",
    "        \"f1\": f1_score(labels, preds, average=\"weighted\")\n",
    "    }\n",
    "\n",
    "trainer = Trainer(\n",
    "    model=model,\n",
    "    args=training_args,\n",
    "    train_dataset=train_dataset,\n",
    "    eval_dataset=val_dataset,\n",
    "    compute_metrics=compute_metrics\n",
    ")"
   ]
  },
  {
   "cell_type": "markdown",
   "id": "1e02d3e1",
   "metadata": {},
   "source": [
    "\n",
    "\n",
    "---\n",
    "\n",
    "## 11. Lancer l’entraînement\n"
   ]
  },
  {
   "cell_type": "code",
   "execution_count": null,
   "id": "c7f7ed22",
   "metadata": {},
   "outputs": [
    {
     "name": "stderr",
     "output_type": "stream",
     "text": [
      "\u001b[34m\u001b[1mwandb\u001b[0m: \u001b[33mWARNING\u001b[0m The `run_name` is currently set to the same value as `TrainingArguments.output_dir`. If this was not intended, please specify a different run name by setting the `TrainingArguments.run_name` parameter.\n"
     ]
    },
    {
     "name": "stderr",
     "output_type": "stream",
     "text": [
      "\u001b[34m\u001b[1mwandb\u001b[0m: Currently logged in as: \u001b[33mdembaseck1010\u001b[0m (\u001b[33mdembaseck1010-universite-de-sherbrooke\u001b[0m) to \u001b[32mhttps://api.wandb.ai\u001b[0m. Use \u001b[1m`wandb login --relogin`\u001b[0m to force relogin\n"
     ]
    },
    {
     "data": {
      "text/html": [
       "Tracking run with wandb version 0.19.11"
      ],
      "text/plain": [
       "<IPython.core.display.HTML object>"
      ]
     },
     "metadata": {},
     "output_type": "display_data"
    },
    {
     "data": {
      "text/html": [
       "Run data is saved locally in <code>/workspaces/tp-INF717/wandb/run-20250608_045546-9ztsb2ya</code>"
      ],
      "text/plain": [
       "<IPython.core.display.HTML object>"
      ]
     },
     "metadata": {},
     "output_type": "display_data"
    },
    {
     "data": {
      "text/html": [
       "Syncing run <strong><a href='https://wandb.ai/dembaseck1010-universite-de-sherbrooke/huggingface/runs/9ztsb2ya' target=\"_blank\">./results</a></strong> to <a href='https://wandb.ai/dembaseck1010-universite-de-sherbrooke/huggingface' target=\"_blank\">Weights & Biases</a> (<a href='https://wandb.me/developer-guide' target=\"_blank\">docs</a>)<br>"
      ],
      "text/plain": [
       "<IPython.core.display.HTML object>"
      ]
     },
     "metadata": {},
     "output_type": "display_data"
    },
    {
     "data": {
      "text/html": [
       " View project at <a href='https://wandb.ai/dembaseck1010-universite-de-sherbrooke/huggingface' target=\"_blank\">https://wandb.ai/dembaseck1010-universite-de-sherbrooke/huggingface</a>"
      ],
      "text/plain": [
       "<IPython.core.display.HTML object>"
      ]
     },
     "metadata": {},
     "output_type": "display_data"
    },
    {
     "data": {
      "text/html": [
       " View run at <a href='https://wandb.ai/dembaseck1010-universite-de-sherbrooke/huggingface/runs/9ztsb2ya' target=\"_blank\">https://wandb.ai/dembaseck1010-universite-de-sherbrooke/huggingface/runs/9ztsb2ya</a>"
      ],
      "text/plain": [
       "<IPython.core.display.HTML object>"
      ]
     },
     "metadata": {},
     "output_type": "display_data"
    },
    {
     "data": {
      "text/html": [
       "\n",
       "    <div>\n",
       "      \n",
       "      <progress value='6' max='75' style='width:300px; height:20px; vertical-align: middle;'></progress>\n",
       "      [ 6/75 00:25 < 07:21, 0.16 it/s, Epoch 0.33/5]\n",
       "    </div>\n",
       "    <table border=\"1\" class=\"dataframe\">\n",
       "  <thead>\n",
       " <tr style=\"text-align: left;\">\n",
       "      <th>Step</th>\n",
       "      <th>Training Loss</th>\n",
       "    </tr>\n",
       "  </thead>\n",
       "  <tbody>\n",
       "  </tbody>\n",
       "</table><p>"
      ],
      "text/plain": [
       "<IPython.core.display.HTML object>"
      ]
     },
     "metadata": {},
     "output_type": "display_data"
    }
   ],
   "source": [
    "trainer.train()"
   ]
  },
  {
   "cell_type": "markdown",
   "id": "5dbfdd45",
   "metadata": {},
   "source": [
    "Voici comment améliorer la **Partie B** pour de meilleurs résultats sur la classification de la priorité, en suivant les mêmes principes que pour la Partie A.\n",
    "\n",
    "---\n",
    "\n",
    "### **4. Préparer les données pour la classification de priorité**\n",
    "\n",
    "**Ajoute du code juste après la création de `df_priorite` pour nettoyer et enrichir les descriptions :**\n",
    "\n"
   ]
  },
  {
   "cell_type": "code",
   "execution_count": null,
   "id": "f468dbba",
   "metadata": {},
   "outputs": [],
   "source": [
    "import re\n",
    "\n",
    "def clean_text(text):\n",
    "    text = text.lower()\n",
    "    text = re.sub(r\"[^a-zA-ZÀ-ÿ0-9\\s]\", \" \", text)\n",
    "    text = re.sub(r\"\\s+\", \" \", text)\n",
    "    return text.strip()\n",
    "\n",
    "# Nettoyage de la description et ajout du type de problème comme contexte\n",
    "df_priorite['Description'] = (\n",
    "    df['Description'].apply(clean_text) + \" type: \" + df['Type de problème'].str.lower()\n",
    ")"
   ]
  },
  {
   "cell_type": "markdown",
   "id": "1bfb8c8a",
   "metadata": {},
   "source": [
    "\n",
    "\n",
    "---\n",
    "\n",
    "### **6. Split train/val/test**\n",
    "\n",
    "**Pour équilibrer les classes dans le jeu d'entraînement (oversampling) :**\n",
    "\n"
   ]
  },
  {
   "cell_type": "code",
   "execution_count": null,
   "id": "cb5fb95f",
   "metadata": {},
   "outputs": [],
   "source": [
    "from sklearn.utils import resample\n",
    "\n",
    "# Fusionne X_train et y_train pour suréchantillonner\n",
    "df_train = pd.DataFrame({'Description': X_train, 'Classe': y_train})\n",
    "\n",
    "# Trouve la taille de la classe majoritaire\n",
    "max_size = df_train['Classe'].value_counts().max()\n",
    "\n",
    "# Suréchantillonne chaque classe\n",
    "lst = [df_train]\n",
    "for class_index, group in df_train.groupby('Classe'):\n",
    "    lst.append(group.sample(max_size - len(group), replace=True, random_state=42))\n",
    "df_train_balanced = pd.concat(lst)\n",
    "\n",
    "# Mélange\n",
    "df_train_balanced = df_train_balanced.sample(frac=1, random_state=42)\n",
    "\n",
    "# Mets à jour X_train et y_train\n",
    "X_train = df_train_balanced['Description']\n",
    "y_train = df_train_balanced['Classe']"
   ]
  },
  {
   "cell_type": "markdown",
   "id": "ddd818cc",
   "metadata": {},
   "source": [
    "\n",
    "\n",
    "---\n",
    "\n",
    "### **10. Entraînement du modèle**\n",
    "\n",
    "**Ajoute l’early stopping pour éviter le surapprentissage :**\n",
    "\n"
   ]
  },
  {
   "cell_type": "code",
   "execution_count": null,
   "id": "638bacfe",
   "metadata": {},
   "outputs": [],
   "source": [
    "from transformers import EarlyStoppingCallback\n",
    "\n",
    "trainer = Trainer(\n",
    "    model=model,\n",
    "    args=training_args,\n",
    "    train_dataset=train_dataset,\n",
    "    eval_dataset=val_dataset,\n",
    "    compute_metrics=compute_metrics,\n",
    "    callbacks=[EarlyStoppingCallback(early_stopping_patience=2)]\n",
    ")"
   ]
  },
  {
   "cell_type": "markdown",
   "id": "f8342a19",
   "metadata": {},
   "source": [
    "\n",
    "\n",
    "---\n",
    "\n",
    "### **Conseils supplémentaires**\n",
    "\n",
    "- Tu peux augmenter le nombre d’époques à 10 ou 15 dans `num_train_epochs` si tu utilises l’early stopping.\n",
    "- Tu peux aussi essayer d’ajouter la colonne « Client » ou « Date » dans la description pour donner plus de contexte si tu le souhaites.\n",
    "\n",
    "---\n",
    "\n",
    "**Résumé :**\n",
    "- Nettoie et enrichis les descriptions (section 4).\n",
    "- Équilibre les classes dans le train (section 6).\n",
    "- Ajoute l’early stopping (section 10).\n"
   ]
  },
  {
   "cell_type": "markdown",
   "id": "1141d05f",
   "metadata": {},
   "source": [
    "\n",
    "\n",
    "---\n",
    "\n",
    "## 12. Évaluer sur le jeu de test\n"
   ]
  },
  {
   "cell_type": "code",
   "execution_count": null,
   "id": "7b2722c5",
   "metadata": {},
   "outputs": [],
   "source": [
    "test_metrics = trainer.evaluate(test_dataset)\n",
    "print(test_metrics)"
   ]
  },
  {
   "cell_type": "markdown",
   "id": "a4182dbc",
   "metadata": {},
   "source": [
    "\n",
    "\n",
    "---\n",
    "\n",
    "## 13. Afficher les prédictions (optionnel)\n"
   ]
  },
  {
   "cell_type": "code",
   "execution_count": null,
   "id": "fb8a681d",
   "metadata": {},
   "outputs": [],
   "source": [
    "predictions = trainer.predict(test_dataset)\n",
    "logits = predictions.predictions\n",
    "if isinstance(logits, tuple):\n",
    "    logits = logits[0]\n",
    "pred_labels = np.argmax(logits, axis=1)\n",
    "true_labels = predictions.label_ids\n",
    "\n",
    "for i in range(len(test_dataset)):\n",
    "    print(\"Description:\", X_test.iloc[i])\n",
    "    print(\"True label:\", encodeur_priorite.inverse_transform([true_labels[i]])[0])\n",
    "    print(\"Predicted:\", encodeur_priorite.inverse_transform([pred_labels[i]])[0])\n",
    "    print(\"-\" * 50)"
   ]
  },
  {
   "cell_type": "markdown",
   "id": "58283998",
   "metadata": {},
   "source": [
    "\n",
    "\n",
    "---\n",
    "\n",
    "## 14. Résultats (cellule texte)\n",
    "Indiquez ici le score F1 obtenu sur le jeu de test.\n",
    "\n",
    "---\n",
    "\n"
   ]
  },
  {
   "cell_type": "markdown",
   "id": "9ab7d6f2",
   "metadata": {},
   "source": [
    "\n",
    "\n",
    "## 15. Partie Bonus : Classification multi-tâches (type de problème + priorité)\n",
    "\n",
    "---\n",
    "\n",
    "### 15.1 Préparer les données multi-tâches\n",
    "\n"
   ]
  },
  {
   "cell_type": "code",
   "execution_count": null,
   "id": "f8826b77",
   "metadata": {},
   "outputs": [],
   "source": [
    "import pandas as pd\n",
    "from sklearn.preprocessing import LabelEncoder\n",
    "\n",
    "# Charger les données\n",
    "df = pd.read_csv(\"IT_Support_Tickets_FR_200.csv\")\n",
    "\n",
    "# Nettoyage du texte\n",
    "import re\n",
    "def clean_text(text):\n",
    "    text = text.lower()\n",
    "    text = re.sub(r\"[^a-zA-ZÀ-ÿ0-9\\s]\", \" \", text)\n",
    "    text = re.sub(r\"\\s+\", \" \", text)\n",
    "    return text.strip()\n",
    "\n",
    "df['Description'] = df['Description'].apply(clean_text)\n",
    "\n",
    "# Encodage des deux cibles\n",
    "encodeur_type = LabelEncoder()\n",
    "encodeur_priorite = LabelEncoder()\n",
    "df['Classe_type'] = encodeur_type.fit_transform(df['Type de problème'])\n",
    "df['Classe_priorite'] = encodeur_priorite.fit_transform(df['Priorité'])"
   ]
  },
  {
   "cell_type": "markdown",
   "id": "3d1f7443",
   "metadata": {},
   "source": [
    "\n",
    "\n",
    "---\n",
    "\n",
    "### 15.2 Split train/val/test\n",
    "\n"
   ]
  },
  {
   "cell_type": "code",
   "execution_count": null,
   "id": "452e9184",
   "metadata": {},
   "outputs": [],
   "source": [
    "from sklearn.model_selection import train_test_split\n",
    "\n",
    "X = df['Description']\n",
    "y_type = df['Classe_type']\n",
    "y_priorite = df['Classe_priorite']\n",
    "\n",
    "X_temp, X_test, y_type_temp, y_type_test, y_priorite_temp, y_priorite_test = train_test_split(\n",
    "    X, y_type, y_priorite, test_size=0.2, random_state=42, stratify=y_type\n",
    ")\n",
    "X_train, X_val, y_type_train, y_type_val, y_priorite_train, y_priorite_val = train_test_split(\n",
    "    X_temp, y_type_temp, y_priorite_temp, test_size=0.25, random_state=42, stratify=y_type_temp\n",
    ")"
   ]
  },
  {
   "cell_type": "markdown",
   "id": "515ff355",
   "metadata": {},
   "source": [
    "\n",
    "\n",
    "---\n",
    "\n",
    "### 15.3 Tokenizer BARThez\n",
    "\n"
   ]
  },
  {
   "cell_type": "code",
   "execution_count": null,
   "id": "961d3135",
   "metadata": {},
   "outputs": [],
   "source": [
    "from transformers import AutoTokenizer\n",
    "\n",
    "tokenizer = AutoTokenizer.from_pretrained(\"moussaKam/barthez\")\n",
    "X_train_list = X_train.tolist()\n",
    "X_val_list = X_val.tolist()\n",
    "X_test_list = X_test.tolist()\n",
    "\n",
    "train_tokens = tokenizer(X_train_list, padding=True, truncation=True, return_tensors=\"pt\")\n",
    "val_tokens = tokenizer(X_val_list, padding=True, truncation=True, return_tensors=\"pt\")\n",
    "test_tokens = tokenizer(X_test_list, padding=True, truncation=True, return_tensors=\"pt\")"
   ]
  },
  {
   "cell_type": "markdown",
   "id": "06f5831f",
   "metadata": {},
   "source": [
    "\n",
    "\n",
    "---\n",
    "\n",
    "### 15.4 Dataset PyTorch multi-tâches\n",
    "\n"
   ]
  },
  {
   "cell_type": "code",
   "execution_count": null,
   "id": "9f6ebe1f",
   "metadata": {},
   "outputs": [],
   "source": [
    "from torch.utils.data import Dataset\n",
    "import torch\n",
    "\n",
    "class MultiTaskTicketDataset(Dataset):\n",
    "    def __init__(self, encodings, labels_type, labels_priorite):\n",
    "        self.encodings = encodings\n",
    "        self.labels_type = labels_type\n",
    "        self.labels_priorite = labels_priorite\n",
    "\n",
    "    def __len__(self):\n",
    "        return len(self.labels_type)\n",
    "\n",
    "    def __getitem__(self, idx):\n",
    "        item = {key: val[idx] for key, val in self.encodings.items()}\n",
    "        item[\"labels_type\"] = torch.tensor(self.labels_type[idx], dtype=torch.long)\n",
    "        item[\"labels_priorite\"] = torch.tensor(self.labels_priorite[idx], dtype=torch.long)\n",
    "        return item\n",
    "\n",
    "train_dataset = MultiTaskTicketDataset(train_tokens, y_type_train.tolist(), y_priorite_train.tolist())\n",
    "val_dataset = MultiTaskTicketDataset(val_tokens, y_type_val.tolist(), y_priorite_val.tolist())\n",
    "test_dataset = MultiTaskTicketDataset(test_tokens, y_type_test.tolist(), y_priorite_test.tolist())"
   ]
  },
  {
   "cell_type": "markdown",
   "id": "94b506c4",
   "metadata": {},
   "source": [
    "\n",
    "\n",
    "---\n",
    "\n",
    "### 15.5 Modèle multi-tâches (PyTorch)\n",
    "\n"
   ]
  },
  {
   "cell_type": "code",
   "execution_count": null,
   "id": "e9385b9e",
   "metadata": {},
   "outputs": [],
   "source": [
    "import torch.nn as nn\n",
    "from transformers import AutoModel\n",
    "\n",
    "class BarthezMultiTask(nn.Module):\n",
    "    def __init__(self, model_name, num_labels_type, num_labels_priorite):\n",
    "        super().__init__()\n",
    "        self.bert = AutoModel.from_pretrained(model_name)\n",
    "        hidden_size = self.bert.config.hidden_size\n",
    "        self.classifier_type = nn.Linear(hidden_size, num_labels_type)\n",
    "        self.classifier_priorite = nn.Linear(hidden_size, num_labels_priorite)\n",
    "\n",
    "    def forward(self, input_ids, attention_mask=None, labels_type=None, labels_priorite=None):\n",
    "        outputs = self.bert(input_ids=input_ids, attention_mask=attention_mask)\n",
    "        pooled_output = outputs.last_hidden_state[:, 0, :]  # [CLS] token\n",
    "        logits_type = self.classifier_type(pooled_output)\n",
    "        logits_priorite = self.classifier_priorite(pooled_output)\n",
    "        loss = None\n",
    "        if labels_type is not None and labels_priorite is not None:\n",
    "            loss_fct = nn.CrossEntropyLoss()\n",
    "            loss = loss_fct(logits_type, labels_type) + loss_fct(logits_priorite, labels_priorite)\n",
    "        return {\"loss\": loss, \"logits_type\": logits_type, \"logits_priorite\": logits_priorite}\n",
    "        \n",
    "num_labels_type = len(df['Classe_type'].unique())\n",
    "num_labels_priorite = len(df['Classe_priorite'].unique())\n",
    "model = BarthezMultiTask(\"moussaKam/barthez\", num_labels_type, num_labels_priorite)"
   ]
  },
  {
   "cell_type": "markdown",
   "id": "103c814b",
   "metadata": {},
   "source": [
    "\n",
    "\n",
    "---\n",
    "\n",
    "### 15.6 Adapter le Trainer HuggingFace\n",
    "\n"
   ]
  },
  {
   "cell_type": "code",
   "execution_count": null,
   "id": "a34bc475",
   "metadata": {},
   "outputs": [],
   "source": [
    "from transformers import Trainer\n",
    "\n",
    "def compute_metrics_multi(eval_pred):\n",
    "    logits_type, logits_priorite = eval_pred.predictions\n",
    "    labels_type, labels_priorite = eval_pred.label_ids\n",
    "    preds_type = logits_type.argmax(axis=1)\n",
    "    preds_priorite = logits_priorite.argmax(axis=1)\n",
    "    from sklearn.metrics import f1_score, accuracy_score\n",
    "    return {\n",
    "        \"f1_type\": f1_score(labels_type, preds_type, average=\"weighted\"),\n",
    "        \"f1_priorite\": f1_score(labels_priorite, preds_priorite, average=\"weighted\"),\n",
    "        \"acc_type\": accuracy_score(labels_type, preds_type),\n",
    "        \"acc_priorite\": accuracy_score(labels_priorite, preds_priorite),\n",
    "    }\n",
    "\n",
    "class MultiTaskTrainer(Trainer):\n",
    "    def compute_loss(self, model, inputs, return_outputs=False):\n",
    "        labels_type = inputs.pop(\"labels_type\")\n",
    "        labels_priorite = inputs.pop(\"labels_priorite\")\n",
    "        outputs = model(**inputs, labels_type=labels_type, labels_priorite=labels_priorite)\n",
    "        loss = outputs[\"loss\"]\n",
    "        return (loss, outputs) if return_outputs else loss\n",
    "\n",
    "    def prediction_step(self, model, inputs, prediction_loss_only, ignore_keys=None):\n",
    "        labels_type = inputs.pop(\"labels_type\")\n",
    "        labels_priorite = inputs.pop(\"labels_priorite\")\n",
    "        outputs = model(**inputs)\n",
    "        return (outputs[\"loss\"], (outputs[\"logits_type\"].detach().cpu().numpy(), outputs[\"logits_priorite\"].detach().cpu().numpy()), (labels_type.detach().cpu().numpy(), labels_priorite.detach().cpu().numpy()))\n",
    "\n",
    "training_args = TrainingArguments(\n",
    "    output_dir=\"./results_multitask\",\n",
    "    learning_rate=2e-5,\n",
    "    per_device_train_batch_size=8,\n",
    "    per_device_eval_batch_size=8,\n",
    "    num_train_epochs=5,\n",
    "    weight_decay=0.01,\n",
    "    logging_dir=\"./logs_multitask\",\n",
    ")\n",
    "\n",
    "trainer = MultiTaskTrainer(\n",
    "    model=model,\n",
    "    args=training_args,\n",
    "    train_dataset=train_dataset,\n",
    "    eval_dataset=val_dataset,\n",
    "    compute_metrics=compute_metrics_multi,\n",
    ")"
   ]
  },
  {
   "cell_type": "markdown",
   "id": "5c65071a",
   "metadata": {},
   "source": [
    "\n",
    "\n",
    "---\n",
    "\n",
    "### 15.7 Entraîner et évaluer\n",
    "\n"
   ]
  },
  {
   "cell_type": "code",
   "execution_count": null,
   "id": "20af2912",
   "metadata": {},
   "outputs": [],
   "source": [
    "trainer.train()\n",
    "test_metrics = trainer.evaluate(test_dataset)\n",
    "print(test_metrics)"
   ]
  },
  {
   "cell_type": "markdown",
   "id": "cdd34b39",
   "metadata": {},
   "source": [
    "\n",
    "\n",
    "---\n",
    "\n",
    "### 15.8 Résultats\n",
    "\n",
    "Dans une cellule texte, indique :\n",
    "\n",
    "> **Score F1 type de problème :** ...  \n",
    "> **Score F1 priorité :** ...  \n",
    "> (Remplace par les valeurs de `test_metrics`.)\n",
    "\n",
    "---\n"
   ]
  }
 ],
 "metadata": {
  "kernelspec": {
   "display_name": "Python 3",
   "language": "python",
   "name": "python3"
  },
  "language_info": {
   "codemirror_mode": {
    "name": "ipython",
    "version": 3
   },
   "file_extension": ".py",
   "mimetype": "text/x-python",
   "name": "python",
   "nbconvert_exporter": "python",
   "pygments_lexer": "ipython3",
   "version": "3.12.1"
  }
 },
 "nbformat": 4,
 "nbformat_minor": 5
}
