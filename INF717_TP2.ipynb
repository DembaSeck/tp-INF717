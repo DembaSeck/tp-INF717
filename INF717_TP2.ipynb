{
  "cells": [
    {
      "cell_type": "markdown",
      "metadata": {
        "colab_type": "text",
        "id": "view-in-github"
      },
      "source": [
        "<a href=\"https://colab.research.google.com/github/DembaSeck/tp-INF717/blob/main/INF717_TP2.ipynb\" target=\"_parent\"><img src=\"https://colab.research.google.com/assets/colab-badge.svg\" alt=\"Open In Colab\"/></a>"
      ]
    },
    {
      "cell_type": "markdown",
      "metadata": {
        "id": "RsdmI3sEDcLL"
      },
      "source": [
        "# 🎬 Mise en contexte\n",
        "Votre entreprise gère des centaines d'ordinateurs dans vos salles de serveurs.\n",
        "L'entreprise veut faire de la maintenance préventive : elle veut inspecter l'état des cartes-mère (_motherboard_) de chaque ordinateur une fois par année.\n",
        "\n",
        "Une partie de cette inspection est la détection de défauts au niveau de l'installation du _motherboard_. Bien qu'un néophyte n'est probablement pas apte à détecter les problèmes pour toutes sortes de _motherboard_, il est coûteux de faire l'inspection par un ou plusieurs experts.\n",
        "\n",
        "**Vous cherchez une solution qui permettra à n'importe quel employé de facilement faire l'inspection sans expérience préalable.**\n",
        "\n",
        "**Vous optez pour une solution via vision ordinateur et analyse d'image par IA**.\n",
        "\n",
        "Le jeux de données _Motherboard Production Defects_ sera utilisée dans cette simulation.\n",
        "\n",
        "<center>\n",
        "<img src=\"https://i.ibb.co/DfPbKWbf/ezgif-4bf84575f81bc8.gif\">\\\n",
        "</center>"
      ]
    },
    {
      "cell_type": "markdown",
      "metadata": {
        "id": "hyGvY9MA3r1B"
      },
      "source": [
        "# 👔 Travail à réaliser\n",
        "\n",
        "À travers ce _notebook_, vous allez rencontrer **11 questions**.\n",
        "\n",
        "Ces questions sont signalées d'un 💡. Lisez attentivement l'énoncé des questions avant de répondre.\n",
        "\n",
        "Maintenant que vous êtes plus familier avec l'IA, plusieurs questions demanderont de faire une recherche. Ceci est pour évaluer votre compétence à acquérir de nouvelles connaissances en IA en entreprise. Vous avez le droit d'utiliser une IA telle que _ChatGPT_ pour démarrer vos recherches. **Cependant, vous devez écrire au moins une source qui ne provient pas d'une _IA_**. Par exemple, vous pouvez utiliser _ChatGPT_ pour trouver des pistes et demander des sources. Après, vous validez la source et la véracité des réponses de _ChatGPT_. Ceci devient une pratique commune en entreprise.\n",
        "\n",
        "Les consignes pour la remise se trouvent sur _Moodle_.\n",
        "\n",
        "**De plus**, lisez les commentaires dans les cellules de codes et étudiez bien la théorie et les méthodologies présentées dans ce _notebook_. Ce TP est également formatteur aux questions de compréhension théorique qui seront à l'examen final. Par exemple, vous allez explorer un modèle _YOLO_ à travers ce TP. Il est possible que l'examen contienne une question à propos de ce modèle."
      ]
    },
    {
      "cell_type": "markdown",
      "metadata": {
        "id": "9NUpyz5B7AaY"
      },
      "source": [
        "# 0️⃣ : Basculer au _runtime_ T4 GPU.\n",
        "\n",
        "Nous voulons profiter de l'accélération GPU pour l'entraînement. Changer le _runtime_ pour T4 GPU. Les bibliothèques que nous utiliseront plus tard détecterons la GPU et s'occuperont de lui délegué les calculs appropriés.\n",
        "\n",
        "<center>\n",
        "<img width=40% src=\"https://i.ibb.co/qLLwgMSZ/Screenshot-2025-06-17-040615.png\">\\\n",
        "</center>"
      ]
    },
    {
      "cell_type": "markdown",
      "metadata": {
        "id": "vuhBJNB9FyyB"
      },
      "source": [
        "# 1️⃣ : Installation et importation des bibliothèques"
      ]
    },
    {
      "cell_type": "code",
      "execution_count": null,
      "metadata": {
        "colab": {
          "base_uri": "https://localhost:8080/"
        },
        "id": "0kRZuVet4pyB",
        "outputId": "acf5b647-0871-4226-fc69-055e7d338507"
      },
      "outputs": [
        {
          "name": "stdout",
          "output_type": "stream",
          "text": [
            "Ultralytics 8.3.156 🚀 Python-3.11.13 torch-2.6.0+cu124 CPU (Intel Xeon 2.20GHz)\n",
            "Setup complete ✅ (2 CPUs, 12.7 GB RAM, 42.2/107.7 GB disk)\n"
          ]
        }
      ],
      "source": [
        "# Installation de la bibliothèque ultralytics sur la machine virtuelle.\n",
        "# N'oubliez pas que la machine virtuelle est réinitialisée à chaque ouverture\n",
        "# du notebook\n",
        "!pip install ultralytics\n",
        "\n",
        "# Importation de la bibliothèque dans l'instance courante de Python.\n",
        "import ultralytics\n",
        "\n",
        "# Vérification de l'initialisation de la bibliothèque suite à l'importation.\n",
        "# Vous devriez voir le suivant :\n",
        "# Ultralytics 8.3.155 🚀 Python-3.11.13 torch-2.6.0+cu124 CUDA:0 (Tesla T4, 15095MiB)\n",
        "# Setup complete ✅ (2 CPUs, 12.7 GB RAM, 41.5/112.6 GB disk)\n",
        "ultralytics.checks()\n",
        "\n",
        "# Lorsque vous voyez \"CUDA\", ça l'implique l'utilisation du GPU.\n",
        "# CUDA est un API de Nvidia pour faire des calculs sur leurs GPUs.\n",
        "# CUDA est très commun dans le milieu de l'IA."
      ]
    },
    {
      "cell_type": "markdown",
      "metadata": {
        "id": "_Nva_fW_Mcxj"
      },
      "source": [
        "# 2️⃣ : Obtenir le jeu de données\n",
        "Le _GitHub_ officiel du jeu de donnée est https://github.com/miraclefactory/motherboard-dataset?tab=readme-ov-file.\n",
        "\n",
        "Cette page contient un lien vers le jeu de donnée. Le fichier est hébergé sur _Google Drive_.\n",
        "\n",
        "Pour télécharger ce jeu dans notre environnement _Colab_, nous pouvons utiliser l'outil `gdown`. Celui-ci permet de facilement télécharger des fichiers de _Google Drive_ à travers un terminal.\n",
        "\n",
        "Exécutez la cellule ci-dessous."
      ]
    },
    {
      "cell_type": "code",
      "execution_count": null,
      "metadata": {
        "colab": {
          "base_uri": "https://localhost:8080/"
        },
        "id": "fsehsaMpMeai",
        "outputId": "e31840b7-c788-4e56-a66c-f8cea77d2cba"
      },
      "outputs": [
        {
          "name": "stdout",
          "output_type": "stream",
          "text": [
            "Downloading...\n",
            "From: https://drive.google.com/uc?export=download&id=13-3N7eJnXEtKbyG6I2_GBXuYQqB_3PGt&confirm=t\n",
            "To: /content/DonnéesMotherboard_YOLO.zip\n",
            "100% 232M/232M [00:05<00:00, 43.4MB/s]\n",
            "replace Motherboard-13/README.roboflow.txt? [y]es, [n]o, [A]ll, [N]one, [r]ename: \n",
            "image 1/1 /tmp/gradio/979ae95b87ee364007b62fe6764f3a93b0c76aee3a6819cf2eb374ff8b4f3de4/5a_jpg.rf.4646829005e90824ce2500b0cb83e9f7.jpg: 128x128 1 CPU_fan, 42.2ms\n",
            "Speed: 5.0ms preprocess, 42.2ms inference, 5.3ms postprocess per image at shape (1, 3, 128, 128)\n",
            "\n",
            "image 1/1 /tmp/gradio/cccdb759d9fff8e02e7803ddee6ee539623a88cdd4261b5efc9b458233df1bc9/--2022-01-25-15-30-39_jpg.rf.71155e9520760e9a8e1962371363082e.jpg: 128x128 2 CPU_fans, 21.8ms\n",
            "Speed: 0.8ms preprocess, 21.8ms inference, 1.0ms postprocess per image at shape (1, 3, 128, 128)\n",
            "\n",
            "image 1/1 /tmp/gradio/8b6b20c5ed3999e8297d63ec0704d9d6019b06373220b04849ad5416cfba9452/cat-in-life-vest.jpg: 96x128 1 CPU_fan, 37.4ms\n",
            "Speed: 0.6ms preprocess, 37.4ms inference, 1.1ms postprocess per image at shape (1, 3, 96, 128)\n",
            "\n",
            "image 1/1 /tmp/gradio/19805cf81b98a17292c881ea1df31ac17814a4195ee2c8b1709d398511fff279/71ik9sViKmL.jpg: 128x128 (no detections), 21.8ms\n",
            "Speed: 0.9ms preprocess, 21.8ms inference, 0.6ms postprocess per image at shape (1, 3, 128, 128)\n",
            "Created dataset file at: .gradio/flagged/dataset1.csv\n",
            "\n",
            "image 1/1 /tmp/gradio/19805cf81b98a17292c881ea1df31ac17814a4195ee2c8b1709d398511fff279/71ik9sViKmL.jpg: 128x128 (no detections), 18.6ms\n",
            "Speed: 0.7ms preprocess, 18.6ms inference, 0.5ms postprocess per image at shape (1, 3, 128, 128)\n"
          ]
        }
      ],
      "source": [
        "!pip install -q gdown\n",
        "!gdown \"https://drive.google.com/uc?export=download&id=13-3N7eJnXEtKbyG6I2_GBXuYQqB_3PGt&confirm=t\" -O DonnéesMotherboard_YOLO.zip\n",
        "!unzip -q DonnéesMotherboard_YOLO.zip\n",
        "!rm DonnéesMotherboard_YOLO.zip"
      ]
    },
    {
      "cell_type": "markdown",
      "metadata": {
        "id": "njx0EYfoV005"
      },
      "source": [
        "Vous devriez maintenant voir le dossier _Motherboard-13_ dans votre répertoire temporaire _Colab_.\n",
        "\n",
        "<center>\n",
        "<img width=30% src=\"https://i.ibb.co/n8gPYHRt/Screenshot-2025-06-17-013342.png\">\n",
        "</center>"
      ]
    },
    {
      "cell_type": "markdown",
      "metadata": {
        "id": "GkpU8xQ4Sr4y"
      },
      "source": [
        "## 💡Question 1 : Terminal ou _Python_ ?\n",
        "Notez l'utilisation du `!` dans la cellule ci-dessus. Ceci a un sens particulié dans une cellule de code _Colab_.\n",
        "\n",
        "Expliquez ce le symbole `!` permet de faire dans _Colab_.\n",
        "Expliquez aussi ce que fait `!pip install gdown`.\n",
        "\n",
        "Écrivez votre réponse dans la cellule texte ci-dessous. Citez vos sources."
      ]
    },
    {
      "cell_type": "markdown",
      "metadata": {
        "id": "1tPdDAksS4iM"
      },
      "source": [
        "**Votre réponse ici**\n",
        "\n",
        "Le symbole ! dans une cellule Colab permet d’exécuter une commande du terminal (shell) directement depuis une cellule Python. Par exemple, !pip install gdown exécute la commande d’installation de la bibliothèque gdown comme si on était dans un terminal Linux, et non dans un script Python classique.\n",
        "\n",
        "Sources :\n",
        "\n",
        "Documentation officielle Colab"
      ]
    },
    {
      "cell_type": "markdown",
      "metadata": {
        "id": "96um91CoJudt"
      },
      "source": [
        "# 2️⃣ : Connaître le jeu de données\n",
        "La qualité et quantité des données est critique. Inspectons le jeu afin de souligner des points faibles qui pourront être pertinents pour expliquer la qualité de l'entraînement d'un modèle.\n",
        "\n",
        "Le jeu de données que nous avons téléchargé est déjà structuré pour un modèle _YOLO11_.\n",
        "\n",
        "_YOLO11_ sera apprivoisé dans une étape suivante.\n"
      ]
    },
    {
      "cell_type": "markdown",
      "metadata": {
        "id": "W90FMTyMVVij"
      },
      "source": [
        "## La structure _YOLO_\n",
        "\n",
        "Un jeu de données d'images étiquettées n'est pas aussi simple que pour des données tabulaires. Dans le TP1, nous avions du texte avec une classe. Ici, nous avions une image associé à plusieurs détections de défaut. Chaque défaut a une classe et un emplacement dans l'image donné par une enveloppe de détection (_bounding box_).\n",
        "\n",
        "Ultimement, nous voulons obtenir des _dataset PyTorch_ comme dans le TP1.\n",
        "Il existe un module _Python_ pour des tâches utilisants un modèle _YOLO_. Ce module permet, entre autres, la création de _dataset_ à partir d'une arborescence de fichiers.\n",
        "\n",
        "Au lieu de créer un ensemble d'entraînement, de validation et de tests avec plusieurs lignes de code, nous allons utiliser une fonction qui créer les trois. Cette fonction s'attend à une arborescence de fichiers structurés telle que nous avions téléchargée.\n",
        "\n",
        "<center>\n",
        "<img width=25% src=\"https://i.ibb.co/qF0M66Vk/arb.png\">\n",
        "</center>\n",
        "\n",
        "Nous appelons ce genre de fonction un _loader_. Le _loader_ pour des modèles _YOLO_ s'occupe d'associer les fichiers d'étiquettes au images appropriées pour créer les _dataset_."
      ]
    },
    {
      "cell_type": "markdown",
      "metadata": {
        "id": "Z4kC5JqacVKk"
      },
      "source": [
        "## Les annotations\n",
        "\n",
        "Prenez un moment pour explorer la structure. Notez qu'il y a un répertoire pour les images et étiquettes (_labels_) pour chaque _split_ (entraînement, validation, test). Pour chaque image, il y a un fichier texte associé avec les annotations.\n",
        "\n",
        "Par exemple, pour l'image `-----1---17_jpg.rf.5a20cfbb5df3a8e4fad656f2d15cdda6.jpg` du jeu de test, il y a les annotations suivantes :\n",
        "<center>\n",
        "<img width=25% src=\"https://i.ibb.co/PzgSNm3W/text.png\">\n",
        "</center>\n",
        "\n",
        "Les modèles _YOLO_ sont fameux pour les tâches de **détection d'objets**. Dans l'exemple ci-dessus, nous voyons la structure typique pour étiquetter des images pour un modèle _YOLO_.\n",
        "\n",
        "Voci la structure :\n",
        "`<class_id> <x_centre> <y_centre> <largeur> <hauteur>`\n",
        "\n",
        "\n",
        "* `<class_id>` : la classe de l'objet détecter (un entier)\n",
        "* `<x_centre>`, `<y_centre>` : la position dans l'image où le centre de l'objet détecté se situe\n",
        "* `<largeur>, <hauteur>` : dimension de la _bounding box_. Le centre de la _bounding box_ est à `(<x_centre>, <y_centre>)`.\n",
        "\n",
        "\n"
      ]
    },
    {
      "cell_type": "markdown",
      "metadata": {
        "id": "q8ME6WOPofBZ"
      },
      "source": [
        "## Les images\n",
        "\n",
        "Observez les neuf premières images du jeu d'entraînement.\n",
        "\n",
        "<center>\n",
        "<img width=25% src=\"https://i.ibb.co/hJcB1bYy/images.png\">\n",
        "</center>\n",
        "\n",
        "Vous pouvez ouvrir les images et les visualiser dans _Colab_.\n",
        "\n",
        "Notez que les images ne contiennent pas les _bounding box_.\n",
        "\n",
        "Ceci est sensé :\n",
        "\n",
        "1.   Le modèle s'attend à des images de _motherboard_\n",
        "2.   Le modèle génère ensuite les _bounding box_ et classe pour chaque objet détecté. Le modèle ne génère pas une nouvelle image.\n",
        "3.   Les données génerées par le modèle peuvent _ensuite_ être utilisées pour créer une nouvelle image avec des _bounding box_ dessinés sur l'image originale.\n",
        "\n",
        "Notez aussi que toutes les images sont de la même dimensions (largeur et hauteur). Après le passages des filtres du _CNN_, il faut avoir le même nombre de caractéristiques extraites. Il ne faut pas qu'une image en aille plus ou moins que les autres, car la tête _FC_ de classification a un nombre fixe de neurones intrants.\n",
        "\n",
        "Finalement, notez qu'il semble avoir trois versions de la même image. Le plus évident étant la version décolorée. Il y a aussi une version avec le ton de couleur changé et des rotations.\n",
        "\n",
        "Ceci nous mène au prochain point.\n",
        "\n"
      ]
    },
    {
      "cell_type": "markdown",
      "metadata": {
        "id": "qz4006Hesdq2"
      },
      "source": [
        "## Augmentation des données (_data augmentation_)\n",
        "\n",
        "Le prétraitement (_preprocessing_) de nos données est une étape importante en IA. Nous voulons souvent retirer des points qui sont des abbérations statistiques, qui manque des valeurs pour certaines caractéristiques, etc. D'autres opérations comme la normalisation des données numériques est rarement ignoré.\n",
        "\n",
        "En résumé, le prétraitement sert à mettre les données dans un état qui favorise l'apprentissage du modèle.\n",
        "\n",
        "Pour des images, le pré-traitement inclut souvent d'uniformiser la dimension des images. D'autres opérations communes sont l'ajustement de l'orientation, l'équalisation des couleurs, etc.\n",
        "\n",
        "Une autre opération commune est l'augmentation des données. Le but est de bonifier le nombre de données en créant des versions alternatives d'images dans un jeu de données initiales.\n",
        "\n",
        "### Roboflow\n",
        "Visitez le lien suivant :\n",
        "https://universe.roboflow.com/yuelin-xin/motherboard-ptxx1/dataset/13/images\n",
        "\n",
        "_Roboflow_ est un site populaire pour des jeux de données et modèles en analyse d'image. C'est semblable à _HuggingFace_, mais spécialisé pour les tâches de classification, détection d'objets, etc. pour les images.\n",
        "\n",
        "Ici, vous pouvez visualiser les images des _splits_ avec ou sans _bounding box_ ajoutés (ils sont ajoutés procéduralement en lisant le fichier d'annotation !). Vous pouvez aussi voir le prétraitement et les augmentations efectuées pour obtenir chaque image.\n",
        "\n",
        "<center>\n",
        "<img width=60% src=\"https://i.ibb.co/h18Kv0qd/attributes.png\">\n",
        "</center>\n",
        "\n",
        "Il est aussi possible d'utiliser _Roboflow_ pour créer un ensemble de données. Vous pouvez téléverser des images et chosir les prétraitement et augmentations que vous voulez appliquer. Vous pouvez aussi chosir le pourcentage des splits et _Roboflow_ va les générer avec une structure de fichiers pour YOLO ou autres modèles."
      ]
    },
    {
      "cell_type": "markdown",
      "metadata": {
        "id": "Mvhq7sjJw6Cu"
      },
      "source": [
        "## 💡Question 2 : Pourquoi l'augmentation ?\n",
        "\n",
        "Dans la cellule ci-dessous, écrivez :\n",
        "\n",
        "**1)**\n",
        "\n",
        "Sans faire une recherche, pourquoi pensez-vous que l'augmentation de données est une bonne pratique ?\n",
        "\n",
        "Pensez à la pertinence de changer le ton de couleur et l'orientation, par exemple, et ce que ça peut impliquer sur la capacité du modèle à généraliser.\n",
        "\n",
        "Vous ne serez pas pénalisé pour cette partie de la question si votre intuition est incorrecte.\n",
        "\n",
        "\\\\\n",
        "**2)**\n",
        "\n",
        "Après avoir effectué une recherche, écrivez maintenant les réels avantages à l'augmentation des données. Citez vos sources.\n",
        "\n"
      ]
    },
    {
      "cell_type": "markdown",
      "metadata": {
        "id": "nikz4FSxzGCD"
      },
      "source": [
        "**Vos réponses ici**\n",
        "\n",
        "**1)**\n",
        "\n",
        "Intuitivement, l’augmentation de données permet d’augmenter la diversité des exemples vus par le modèle, ce qui l’aide à mieux généraliser et à ne pas sur-apprendre sur des exemples trop similaires. Par exemple, changer l’orientation ou la couleur simule des conditions réelles variées.\n",
        "\n",
        "**2)**\n",
        "L’augmentation de données permet de :\n",
        "\n",
        "Réduire le surapprentissage (overfitting)\n",
        "Améliorer la robustesse du modèle face à des variations réelles (lumière, angle, bruit)\n",
        "Simuler un jeu de données plus large sans collecter de nouvelles images\n",
        "Sources :\n",
        "\n",
        "Data Augmentation for Deep Learning: A Review\n",
        "Towards Data Science - Data Augmentation\n"
      ]
    },
    {
      "cell_type": "markdown",
      "metadata": {
        "id": "z24SeMPJkp56"
      },
      "source": [
        "## Les classes\n",
        "\n",
        "Visitez le lien suivant pour plus de statistiques à propos des données :\n",
        "\n",
        "https://app.roboflow.com/testspace-so4mg/motherboard-ptxx1-leilu/health\n",
        "\n",
        "_Roboflow_ génère ces statistiques pour nous."
      ]
    },
    {
      "cell_type": "markdown",
      "metadata": {
        "id": "5vtPXp7hqMET"
      },
      "source": [
        "## 💡Question 3 : À propos des classes...\n",
        "Observez la distribution des classes. Voyez-vous le problème ?\n",
        "\n",
        "Expliquez le problème et comment ce type de problème peut nuire à la performance d'un modèle entraîné.\n",
        "\n",
        "Répondez dans la cellule texte ci-dessous. Citez vos sources."
      ]
    },
    {
      "cell_type": "markdown",
      "metadata": {
        "id": "YY2axMNqqnh-"
      },
      "source": [
        "**Votre réponse ici**\n",
        "La distribution des classes est très déséquilibrée, avec certaines classes ayant beaucoup plus d'exemples que d'autres. Ce déséquilibre peut nuire à la performance du modèle car il peut apprendre à prédire les classes majoritaires avec une grande précision, mais échouer à reconnaître les classes minoritaires. Cela conduit à un biais dans les prédictions et à une mauvaise généralisation sur des données réelles où les classes minoritaires sont présentes.\n",
        "\n",
        "Sources :\n",
        "- \"Imbalanced Classification: A Review of Techniques and Applications\" - Journal of Machine Learning Research\n",
        "\n",
        "- \"Learning from Imbalanced Data\" - IEEE Transactions on Knowledge and Data Engineering"
      ]
    },
    {
      "cell_type": "markdown",
      "metadata": {
        "id": "V8daFRfavI6i"
      },
      "source": [
        "##💡Question 4 : Métriques de classification en IA\n",
        "\n",
        "Il y a quatres métriques pour évaluer la performance d'un modèle de classification.\n",
        "\n",
        "| Anglais       | Français                                |\n",
        "| ------------- | --------------------------------------- |\n",
        "| **Accuracy**  | **Exactitude** ou **Précision globale** |\n",
        "| **Precision** | **Précision**                           |\n",
        "| **Recall**    | **Rappel**                              |\n",
        "| **F1-score**  | **Score F1**                            |\n",
        "\n",
        "**1)**\n",
        "\n",
        "Dans la cellule ci-dessous, décrivez ce que chaque métrique représente. Citez vos sources.\n",
        "**Votre réponse ici**\n",
        "| **Métrique**   | **Description**                                                                                   |\n",
        "|----------------|---------------------------------------------------------------------------------------------------|\n",
        "| **Exactitude**  | Proportion d'exemples correctement classés par rapport au nombre total d'exemples.               |\n",
        "| **Précision**   | Proportion d'exemples positifs correctement classés par rapport au nombre total d'exemples prédits comme positifs. |\n",
        "| **Rappel**      | Proportion d'exemples positifs correctement classés par rapport au nombre total d'exemples réellement positifs. |\n",
        "| **Score F1**    | Moyenne harmonique entre la précision et le rappel, utile pour évaluer les modèles sur des classes déséquilibrées. |\n",
        "| **Source**      |                                                                                                   |\n",
        "| Documentation scikit-learn, \"Classification Metrics\" |\n",
        "\n",
        "\n",
        "\\\\\n",
        "**2)**\n",
        "\n",
        "Expliquez pourquoi le score F1 est un meilleur métrique lorsqu'il y a un déséquilibre des classes. Citez vos sources.\n",
        "\n",
        "**Votre réponse ici**\n",
        "\n",
        "Le score F1 est un meilleur métrique dans les cas de déséquilibre des classes car il prend en compte à la fois la précision et le rappel, offrant ainsi un équilibre entre les faux positifs et les faux négatifs. Dans les situations où une classe est sous-représentée, l'exactitude peut être trompeuse car un modèle peut obtenir une haute exactitude en prédisant majoritairement la classe majoritaire. Le score F1 permet de mieux évaluer la performance du modèle sur les classes minoritaires."
      ]
    },
    {
      "cell_type": "markdown",
      "metadata": {
        "id": "pA9CoAXZ14tG"
      },
      "source": [
        "#3️⃣ : Sélection du modèle _YOLO_ préentraîné\n",
        "\n",
        "Vous pouvez en apprendre plus sur _YOLO11_ en visitant la page suivante : https://docs.ultralytics.com/models/yolo11/#models\n",
        "\n",
        "Notez qu'il existe des modèles pour plusieurs tâches (détection, segmentation, classification globale, etc.). La tâche par défaut est la détection.\n",
        "\n",
        "Il existe cinq taille/compléxité de modèles _YOLO11_ pour la détection : nano, small, medium, large, x-large.\n",
        "\n",
        "| Model       | Paramètres (Millions) |\n",
        "| ----------- | --------------------- |\n",
        "| **YOLO11n** | 2.6 M                 |\n",
        "| **YOLO11s** | 9.4 M                 |\n",
        "| **YOLO11m** | 20.1 M                |\n",
        "| **YOLO11l** | 25.3 M                |\n",
        "| **YOLO11x** | 56.9 M                |\n",
        "\n",
        "Pour commencer, vous allez utiliser la version `YOLO11n` (nano). Plus bas, vous allez échanger le modèle pour la version x-large et comparer les résultats et le temps d'entraînement.\n"
      ]
    },
    {
      "cell_type": "markdown",
      "metadata": {
        "id": "9zcqQIcq49yh"
      },
      "source": [
        "##💡Question 5 : Code d'instanciation du modèle\n",
        "\n",
        "Complétez la cellule de code ci-dessous. Vous devez trouver la bonne `string` pour charger un _YOLO11n_.\n",
        "\n",
        "Vous devriez voir un nouveau fichier `.pt` dans votre répertoire temporaire _Colab_."
      ]
    },
    {
      "cell_type": "code",
      "execution_count": null,
      "metadata": {
        "id": "eYOOh4d05dGp"
      },
      "outputs": [],
      "source": [
        "from ultralytics import YOLO\n",
        "\n",
        "model_nano = YOLO(\"yolo11n.pt\") # s'occupe aussi de télécharger les paramètres du modèle venant du préentraînement\n",
        "print(model_nano.info())"
      ]
    },
    {
      "cell_type": "markdown",
      "metadata": {
        "id": "y1ii5Vxm7gqK"
      },
      "source": [
        "##💡Question 6 : Tester le modèle préentraîné\n",
        "\n",
        "Exécutez la cellule de code suivante pour tester votre _YOLO11n_.\n",
        "\n",
        "Notez les statistiques de la sortie. Il y a le nombre d'occurence par classes, le temps d'inférence, etc."
      ]
    },
    {
      "cell_type": "code",
      "execution_count": null,
      "metadata": {
        "id": "_pxCox2E6eVM"
      },
      "outputs": [],
      "source": [
        "!wget https://i.ibb.co/8nCZJByL/erepublic-brightspotcdn.jpg -O image.jpg # ligne pour télécharger l'image de test\n",
        "\n",
        "results = model_nano(\"image.jpg\")\n",
        "results[0].show()"
      ]
    },
    {
      "cell_type": "markdown",
      "metadata": {
        "id": "pefX0ICF-lqA"
      },
      "source": [
        "Dans la prochaine cellule de code, créez un nouveau modèle _YOLO11_ x-large. Faites le même test et observez la différence."
      ]
    },
    {
      "cell_type": "code",
      "execution_count": null,
      "metadata": {
        "id": "-I02Sh2c-x-T"
      },
      "outputs": [],
      "source": [
        "model_xlarge = YOLO(\"yolo11x.pt\")\n",
        "results_x = model_xlarge(\"image.jpg\")\n",
        "results_x[0].show()"
      ]
    },
    {
      "cell_type": "markdown",
      "metadata": {
        "id": "PlROWHsjAHm6"
      },
      "source": [
        "Finalement, dans la cellule texte ci-dessous, écrivez le temps d'inférence obtenu entre le modèle nano et le modèle x-large. De plus, écrivez à propos de la différence de qualité entre deux résultats."
      ]
    },
    {
      "cell_type": "markdown",
      "metadata": {
        "id": "GgV9WUHaBS8P"
      },
      "source": [
        "**Vos réponses ici**"
      ]
    },
    {
      "cell_type": "markdown",
      "metadata": {
        "id": "y2_OK2cHB73W"
      },
      "source": [
        "##💡Question 7 : Test sur un _motherboard_\n",
        "\n",
        "Dans la cellule de code ci-dessous, écrivez le code nécessaire pour tester le `model_xlarge` et afficher les résultats avec une image de _motherboard_ comme intrant.\n",
        "\n",
        "Utilisez une image dans le répertoire _Motherboard-13_. Prenez la première image de la split _train_."
      ]
    },
    {
      "cell_type": "code",
      "execution_count": null,
      "metadata": {
        "id": "Tteln9nWCd3Y"
      },
      "outputs": [],
      "source": [
        "results_mb = model_xlarge(\"Motherboard-13/train/images/-----1---17_jpg.rf.5a20cfbb5df3a8e4fad656f2d15cdda6.jpg\")\n",
        "results_mb[0].show()"
      ]
    },
    {
      "cell_type": "markdown",
      "metadata": {
        "id": "Rhpm3tcACabP"
      },
      "source": [
        "Sans faire une recherche, selon vous, pourquoi est-ce que le résultat avec un _motherboard_ n'est pas bon ?\n",
        "\n",
        "Expliquez dans la cellule texte suivante.\n",
        "\n",
        "**Votre réponse ici**\n",
        "\n",
        "Le modèle _YOLO11n_ n'est pas capable de détecter les défauts sur un _motherboard_ car il a été entraîné sur un jeu de données différent, probablement avec des classes et des caractéristiques spécifiques qui ne correspondent pas à celles des _motherboard_. Le modèle a été optimisé pour détecter des objets généraux, mais il n'a pas appris à reconnaître les détails spécifiques des cartes mères, ce qui explique son échec dans cette tâche."
      ]
    },
    {
      "cell_type": "markdown",
      "metadata": {
        "id": "kX7fCL7GWJea"
      },
      "source": [
        "##💡Question 8 : _COCO_ (_Common Objects in Context_)\n",
        "Le jeu de données _COCO_ a été utilisé pour le préentraînement de tous les modèles _YOLO_.\n",
        "\n",
        "**1)**\n",
        "\n",
        "Dans la cellule suivante, après une recherche, nommez dix (10) classes d'objets trouvées dans _COCO_. Citez vos sources.\n",
        "\n",
        "\\\\\n",
        "**2)**\n",
        "\n",
        "Après avoir consultez la liste des classes, pourquoi croyez-vous maintenant que le modèle ne fonctionne pas pour la détection sur un _motherboard_ ?\n",
        "\n",
        "Qu'est-ce qui doit être fait pour adapter le modèle pour notre tâche de détections de défauts ?\n",
        "\n",
        "\\\\\n",
        "**3)**\n",
        "\n",
        "Quelle est la pertinence de commencer à partir d'un modèle préentraîné comme `yolo11n` ?\n",
        "\n",
        "Expliquez l'importance des filtres de convolution préoptimisés. Qu'est-ce que ces filtres ont appris à faire pendant le préentrainement sur les données de _COCO_ ?\n",
        "\n",
        "\\\\\n",
        "**4)**\n",
        "\n",
        "Dans le TP1, nous avons garder l'encodeur du _transformer BARTHez_ préentraîné pour faire la classification de tickets de support.\n",
        "\n",
        "Ici, entre la section _CNN_ (souvent nommé _backbone_) et la tête de classification, lequel voulons nous garder pour le _fine-tuning_ de notre tâche de détection de défauts ?\n",
        "\n",
        "Citez vos sources.\n",
        "\n",
        "\\\\\n",
        "**5)**\n",
        "\n",
        "Si nous voulons détecter des chats et des chiens, au lieu de défauts _motherboard_, est-il nécessaire de faire un _fine-tuning_ du modèle ?\n",
        "\n",
        "Justifiez votre réponse."
      ]
    },
    {
      "cell_type": "markdown",
      "metadata": {
        "id": "1wat8TQ_dP6a"
      },
      "source": [
        "**Vos réponses ici**\n",
        "\n",
        "**1)**\n",
        "\n",
        "\n",
        "\n",
        "**2)**\n",
        "\n",
        "\n",
        "\n",
        "**3)**\n",
        "\n",
        "\n",
        "\n",
        "**4)**\n",
        "\n",
        "\n",
        "\n",
        "**5)**"
      ]
    },
    {
      "cell_type": "markdown",
      "metadata": {
        "id": "8msulu-_eFaM"
      },
      "source": [
        "# 4️⃣ : _Fine-tuning_ des modèles\n",
        "\n",
        "Le module `ultralytics` offre un API très simple pour l'entraînement et la validation de modèle _YOLO_. En une seule fonction, vous fournir les données, configurer les hyperparamètres et entraîner. Les _dataset Pytorch_ seront créer pour vous et utilisés sous le capot.\n",
        "\n",
        "Les objets _YOLO_ (comme `model_nano`) ont accès à la méthode `train(...)`.\n",
        "\n",
        "Visitez la page de documentation officiel pour en apprendre plus sur comment charger les données et choisir les hyperparamètres : https://docs.ultralytics.com/modes/train/#train-settings\n",
        "\n",
        "Les paramètres de la fonction `train(...)` importants pour ce TPs sont :\n",
        "*   data   (le fichier `.yaml` se trouve dans le dossier _Motherboard-13_)\n",
        "*   name   (vous choisissez)\n",
        "*   epochs (utilisez une valeur de 5)\n",
        "*   imgsz  (utilisez une valeur de 128)\n",
        "*   batch  (utilisez une valeur de 16)\n",
        "*   seed   (par defaut à 0. Utilisez cette valeur par défaut)\n",
        "*   pretrained (par défaut à `True`. C'est ce que nous voulons.)\n",
        "\n",
        "À la fin de l'entraînement, nous obtenons un dossier avec les nouveaux poids (paramètres) du modèle. Aussi, des graphiques pour le score F1, et autres métriques. Vous obtenez d'autres fichiers avec d'autres statistiques pertinentes. Explorez ces fichiers à votre guise.\n",
        "\n",
        "<center>\n",
        "<img width=20% src=\"https://i.ibb.co/ZzJZF9FC/Screenshot-2025-06-17-170933.png\">\n",
        "</center>"
      ]
    },
    {
      "cell_type": "markdown",
      "metadata": {
        "id": "hXi7tDIlqy5R"
      },
      "source": [
        "##💡Question 9 : Code d'entraînement\n",
        "\n",
        "Entraînez le modèle `yolo11n` et le modèle `yolo11x`. Utilisez les valeurs de paramètres données plus haut.\n",
        "\n",
        "Attendez-vous que le processus soit **très long**.\n",
        "\n",
        "Pour la version nano, vous devriez obtenir le graphique `results.png` suivant :\n",
        "\n",
        "<center>\n",
        "<img width=75% src=\"https://i.ibb.co/LzPmQgkd/Screenshot-2025-06-17-171622.png\">\n",
        "</center>\n",
        "\n",
        "Pour x-large :\n",
        "\n",
        "<center>\n",
        "<img width=75% src=\"https://i.ibb.co/JWkGPBTt/Screenshot-2025-06-17-180632.png\">\n",
        "</center>\n",
        "\n",
        "Notez le métrique _mAP50-95_. Ceci est un métrique utilisé en détection d'objets. Vous pouvez en lire davantage, mais une valeur plus haut de 0.5 (50%) est souvent considérée très bon."
      ]
    },
    {
      "cell_type": "code",
      "execution_count": null,
      "metadata": {
        "id": "--hGmRp7qpxL"
      },
      "outputs": [],
      "source": [
        "# yolo11n"
      ]
    },
    {
      "cell_type": "code",
      "execution_count": null,
      "metadata": {
        "id": "qTXdbwIMqqgi"
      },
      "outputs": [],
      "source": [
        "# yolo11x"
      ]
    },
    {
      "cell_type": "markdown",
      "metadata": {
        "id": "Upvieko_36Ht"
      },
      "source": [
        "##💡Question 10 : Test\n",
        "\n",
        "Testez votre modèle nano et x-large encore une fois sur la première image de _motherboard_ du _split train_.\n",
        "\n"
      ]
    },
    {
      "cell_type": "code",
      "execution_count": null,
      "metadata": {
        "id": "jJjtigFDa6JE"
      },
      "outputs": [],
      "source": [
        "# Votre réponse ici"
      ]
    },
    {
      "cell_type": "markdown",
      "metadata": {
        "id": "5MSE4W5S3onK"
      },
      "source": [
        "##💡Question 11 : Comparaison nano et x-large.\n",
        "\n",
        "Quel est le compromis (_tradeoff_) entre un petit modèle et un plus large ?\n",
        "\n",
        "Pensez à la taille mémoire du modèle, la vitesse d'entraînement et d'inférence, les métriques de performances.\n",
        "\n",
        "Essayez une ou deux époque de `yolo11n` et de `yolo11x` et appuyez votre réponse avec les résultats de vos expériences.\n",
        "\n",
        "Répondez dans la cellule ci-dessous."
      ]
    },
    {
      "cell_type": "code",
      "execution_count": null,
      "metadata": {
        "id": "CzmCmbpH3-2p"
      },
      "outputs": [],
      "source": [
        "# Votre réponse ici"
      ]
    },
    {
      "cell_type": "markdown",
      "metadata": {
        "id": "E0nicM8tVZFg"
      },
      "source": [
        "## 💡Question 12 : YOLO11 (CNN) contre DETR (ViT)\n",
        "\n",
        "Pour compléter votre apprentissage en méthodes IA pour le traitement d'image, vous devez faire une recherche et comparer la méthode _CNN_ avec la méthode _Vision Transformer_.\n",
        "\n",
        "Les deux méthodes coexistents dans l'industrie ; ils attaquent des besoins différents.\n",
        "\n",
        "Dans une cellule texte ci-dessous, répondez aux questions inscrites.\n",
        "\n",
        "Suite à cette recherche, vous devriez être en mesure de recommander le plus approprié selon la nature du problème. N'oubliez pas de citez vos sources.\n"
      ]
    },
    {
      "cell_type": "markdown",
      "metadata": {
        "id": "9tpgllF7YS3S"
      },
      "source": [
        "**1)**\n",
        "\n",
        "En quelle année est-ce que YOLO11 est devenu disponible au public ?\n",
        "\n",
        "En quelle année est-ce que DETR est devenu disponible au public ?\n",
        "\n",
        "\n",
        "**2)**\n",
        "\n",
        "Quelle organisation/entreprise a développé YOLO11 ?\n",
        "\n",
        "Quelle organisation/entreprise a développé DETR ?\n",
        "\n",
        "\n",
        "**3)**\n",
        "\n",
        "Indiquez un avantage que YOLO11 (grâce à son coeur _CNN_) a en comparant avec DETR.\n",
        "\n",
        "Indiquez un avantage que DETR (grâce à son coeur _ViT_) a en comparant avec YOLO11.\n",
        "\n",
        "\n",
        "**4)**\n",
        "\n",
        "Donnez une situation ou vous recommanderiez un _CNN_ pour la classification d'images au lieu d'un _ViT_.\n",
        "\n",
        "Donnez une situation ou vous recommanderiez un _ViT_ pour la classification d'images au lieu d'un _CNN_.\n"
      ]
    },
    {
      "cell_type": "markdown",
      "metadata": {
        "id": "cZmyrq_K5JCx"
      },
      "source": [
        "# 💡 Bonus : Déploiement\n",
        "\n",
        "Utilisez la bibliothèque `gradio` pour deployer un service web avec interface pour utilisez votre modèle.\n",
        "\n",
        "Vous devriez obtenir un URL public que vous pouvez partager.\n",
        "\n",
        "Par exemple, https://fbeada3b7870419550.gradio.live/"
      ]
    },
    {
      "cell_type": "code",
      "execution_count": null,
      "metadata": {
        "id": "hn5vYGAy81rU"
      },
      "outputs": [],
      "source": [
        "# Votre réponse ici"
      ]
    }
  ],
  "metadata": {
    "accelerator": "GPU",
    "colab": {
      "gpuType": "T4",
      "include_colab_link": true,
      "provenance": []
    },
    "kernelspec": {
      "display_name": "Python 3",
      "name": "python3"
    },
    "language_info": {
      "name": "python",
      "version": "3.12.1"
    }
  },
  "nbformat": 4,
  "nbformat_minor": 0
}
