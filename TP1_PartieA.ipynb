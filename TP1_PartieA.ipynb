{
  "cells": [
    {
      "cell_type": "markdown",
      "metadata": {
        "id": "AZ0hHAEFdaft"
      },
      "source": [
        "# 1 : Le jeu de données"
      ]
    },
    {
      "cell_type": "markdown",
      "metadata": {
        "id": "BZBTm3MOdgUB"
      },
      "source": [
        "## 1.1 Télécharger le jeu de données\n",
        "\n",
        "Le jeu de données est sous la forme d'un fichier CSV.\n",
        "\n",
        "**Exécutez la cellule ci-dessous pour télécharger le fichier et l'ajouter à votre répertoire actif _Google Colab_.**"
      ]
    },
    {
      "cell_type": "code",
      "execution_count": 1,
      "metadata": {
        "colab": {
          "base_uri": "https://localhost:8080/"
        },
        "id": "4QYkfZQkcMMq",
        "outputId": "3014a0b4-3fdb-4151-82e0-f4cc2fbe27ad"
      },
      "outputs": [
        {
          "name": "stdout",
          "output_type": "stream",
          "text": [
            "Téléchargement terminé !\n"
          ]
        }
      ],
      "source": [
        "import urllib.request\n",
        "\n",
        "url = 'https://drive.google.com/uc?export=download&id=13ZfF8DjSvqPJkrY93GJTK2l14IwLVLZ0'\n",
        "urllib.request.urlretrieve(url, 'IT_Support_Tickets_FR_200.csv')\n",
        "\n",
        "print('Téléchargement terminé !')"
      ]
    },
    {
      "cell_type": "markdown",
      "metadata": {
        "id": "45nTHePKezkz"
      },
      "source": [
        "## 1.2 Créer un _DataFrame_ pour inspecter le jeu de données\n",
        "\n",
        "Un _DataFrame_ est un objet pour représenter un jeu de données venant du module _pandas_. Ce module _Python_ est populaire en IA.\n",
        "\n",
        "Un _DataFrame_ est une interface conviviale pour traiter un jeu de donnée.\n",
        "\n",
        "**Suivez les consignes ci-dessous**\n",
        "1. importez le module `pandas` et donné lui l'alias `pd`\n",
        "2. créez le _DataFrame_\n",
        "  * créez une nouvelle variable nommée `df`\n",
        "  * utilisez la fonction suivante `pd.read_csv(\"IT_Support_Tickets_FR_200.csv\")` pour créer le _DataFrame_ en lisant le jeu de données téléchargé. Affectez la valeur retournée à la variable `df`.\n",
        "3. finalement, ajoutez une dernière ligne qui n'est que le suivant : `df`. Lorsqu'une cellule termine qu'avec le nom d'une variable _DataFrame_, _Colab_ va afficher la _DataFrame_."
      ]
    },
    {
      "cell_type": "code",
      "execution_count": 2,
      "metadata": {
        "id": "cINswq3Ldn9Z"
      },
      "outputs": [
        {
          "data": {
            "text/html": [
              "<div>\n",
              "<style scoped>\n",
              "    .dataframe tbody tr th:only-of-type {\n",
              "        vertical-align: middle;\n",
              "    }\n",
              "\n",
              "    .dataframe tbody tr th {\n",
              "        vertical-align: top;\n",
              "    }\n",
              "\n",
              "    .dataframe thead th {\n",
              "        text-align: right;\n",
              "    }\n",
              "</style>\n",
              "<table border=\"1\" class=\"dataframe\">\n",
              "  <thead>\n",
              "    <tr style=\"text-align: right;\">\n",
              "      <th></th>\n",
              "      <th>ID Ticket</th>\n",
              "      <th>Date</th>\n",
              "      <th>Client</th>\n",
              "      <th>Description</th>\n",
              "      <th>Type de problème</th>\n",
              "      <th>Priorité</th>\n",
              "    </tr>\n",
              "  </thead>\n",
              "  <tbody>\n",
              "    <tr>\n",
              "      <th>0</th>\n",
              "      <td>1</td>\n",
              "      <td>2023-10-01</td>\n",
              "      <td>Service Finances</td>\n",
              "      <td>L'ordinateur ne s'allume pas après une mise à ...</td>\n",
              "      <td>Matériel</td>\n",
              "      <td>Élevée</td>\n",
              "    </tr>\n",
              "    <tr>\n",
              "      <th>1</th>\n",
              "      <td>2</td>\n",
              "      <td>2023-10-01</td>\n",
              "      <td>Marketing</td>\n",
              "      <td>Impossible d'accéder à Outlook - erreur \"Compt...</td>\n",
              "      <td>Compte/Mot de passe</td>\n",
              "      <td>Moyenne</td>\n",
              "    </tr>\n",
              "    <tr>\n",
              "      <th>2</th>\n",
              "      <td>3</td>\n",
              "      <td>2023-10-02</td>\n",
              "      <td>RH</td>\n",
              "      <td>Le logiciel SAP plante fréquemment lors de la ...</td>\n",
              "      <td>Logiciel</td>\n",
              "      <td>Élevée</td>\n",
              "    </tr>\n",
              "    <tr>\n",
              "      <th>3</th>\n",
              "      <td>4</td>\n",
              "      <td>2023-10-02</td>\n",
              "      <td>IT Support</td>\n",
              "      <td>Connexion Wi-Fi lente dans le bâtiment B</td>\n",
              "      <td>Réseau</td>\n",
              "      <td>Moyenne</td>\n",
              "    </tr>\n",
              "    <tr>\n",
              "      <th>4</th>\n",
              "      <td>5</td>\n",
              "      <td>2023-10-03</td>\n",
              "      <td>Direction</td>\n",
              "      <td>Impossible d'imprimer depuis le nouveau copieur</td>\n",
              "      <td>Matériel</td>\n",
              "      <td>Élevée</td>\n",
              "    </tr>\n",
              "    <tr>\n",
              "      <th>...</th>\n",
              "      <td>...</td>\n",
              "      <td>...</td>\n",
              "      <td>...</td>\n",
              "      <td>...</td>\n",
              "      <td>...</td>\n",
              "      <td>...</td>\n",
              "    </tr>\n",
              "    <tr>\n",
              "      <th>195</th>\n",
              "      <td>196</td>\n",
              "      <td>2024-01-06</td>\n",
              "      <td>Comptabilité</td>\n",
              "      <td>Problème de calcul des amortissements</td>\n",
              "      <td>Logiciel</td>\n",
              "      <td>Élevée</td>\n",
              "    </tr>\n",
              "    <tr>\n",
              "      <th>196</th>\n",
              "      <td>197</td>\n",
              "      <td>2024-01-07</td>\n",
              "      <td>Ventes</td>\n",
              "      <td>Problème de tactile sur l'écran interactif</td>\n",
              "      <td>Matériel</td>\n",
              "      <td>Moyenne</td>\n",
              "    </tr>\n",
              "    <tr>\n",
              "      <th>197</th>\n",
              "      <td>198</td>\n",
              "      <td>2024-01-07</td>\n",
              "      <td>Service Client</td>\n",
              "      <td>Demande de configuration des signatures groupées</td>\n",
              "      <td>Compte/Mot de passe</td>\n",
              "      <td>Basse</td>\n",
              "    </tr>\n",
              "    <tr>\n",
              "      <th>198</th>\n",
              "      <td>199</td>\n",
              "      <td>2024-01-08</td>\n",
              "      <td>Logistique</td>\n",
              "      <td>Problème de synchronisation des inventaires</td>\n",
              "      <td>Logiciel</td>\n",
              "      <td>Moyenne</td>\n",
              "    </tr>\n",
              "    <tr>\n",
              "      <th>199</th>\n",
              "      <td>200</td>\n",
              "      <td>2024-01-08</td>\n",
              "      <td>R&amp;D</td>\n",
              "      <td>Problème de parallélisation des calculs</td>\n",
              "      <td>Logiciel</td>\n",
              "      <td>Élevée</td>\n",
              "    </tr>\n",
              "  </tbody>\n",
              "</table>\n",
              "<p>200 rows × 6 columns</p>\n",
              "</div>"
            ],
            "text/plain": [
              "     ID Ticket        Date            Client  \\\n",
              "0            1  2023-10-01  Service Finances   \n",
              "1            2  2023-10-01         Marketing   \n",
              "2            3  2023-10-02                RH   \n",
              "3            4  2023-10-02        IT Support   \n",
              "4            5  2023-10-03         Direction   \n",
              "..         ...         ...               ...   \n",
              "195        196  2024-01-06      Comptabilité   \n",
              "196        197  2024-01-07            Ventes   \n",
              "197        198  2024-01-07    Service Client   \n",
              "198        199  2024-01-08        Logistique   \n",
              "199        200  2024-01-08               R&D   \n",
              "\n",
              "                                           Description     Type de problème  \\\n",
              "0    L'ordinateur ne s'allume pas après une mise à ...             Matériel   \n",
              "1    Impossible d'accéder à Outlook - erreur \"Compt...  Compte/Mot de passe   \n",
              "2    Le logiciel SAP plante fréquemment lors de la ...             Logiciel   \n",
              "3             Connexion Wi-Fi lente dans le bâtiment B               Réseau   \n",
              "4      Impossible d'imprimer depuis le nouveau copieur             Matériel   \n",
              "..                                                 ...                  ...   \n",
              "195              Problème de calcul des amortissements             Logiciel   \n",
              "196         Problème de tactile sur l'écran interactif             Matériel   \n",
              "197   Demande de configuration des signatures groupées  Compte/Mot de passe   \n",
              "198        Problème de synchronisation des inventaires             Logiciel   \n",
              "199            Problème de parallélisation des calculs             Logiciel   \n",
              "\n",
              "    Priorité  \n",
              "0     Élevée  \n",
              "1    Moyenne  \n",
              "2     Élevée  \n",
              "3    Moyenne  \n",
              "4     Élevée  \n",
              "..       ...  \n",
              "195   Élevée  \n",
              "196  Moyenne  \n",
              "197    Basse  \n",
              "198  Moyenne  \n",
              "199   Élevée  \n",
              "\n",
              "[200 rows x 6 columns]"
            ]
          },
          "execution_count": 2,
          "metadata": {},
          "output_type": "execute_result"
        }
      ],
      "source": [
        "# Importer les données dans un DataFrame pandas #\n",
        "import pandas as pd\n",
        "df = pd.read_csv(\"IT_Support_Tickets_FR_200.csv\")\n",
        "df\n",
        "\n",
        "\n",
        "\n",
        "\n",
        "\n",
        "\n"
      ]
    },
    {
      "cell_type": "markdown",
      "metadata": {
        "id": "mwwbZpvXlRIj"
      },
      "source": [
        "## 1.3 Les types de problèmes\n",
        "Pour commencer, nous allons nous concentrer sur la **classification par type de problème**.\n",
        "\n",
        "**Exécutez la celulle ci-dessous pour créer un nouveau _DataFrame_ contenant que le type de problème pour chaque exemple du jeu de donnée**."
      ]
    },
    {
      "cell_type": "code",
      "execution_count": 3,
      "metadata": {
        "id": "qWmTMZVxgn9V"
      },
      "outputs": [
        {
          "data": {
            "text/plain": [
              "0                 Matériel\n",
              "1      Compte/Mot de passe\n",
              "2                 Logiciel\n",
              "3                   Réseau\n",
              "4                 Matériel\n",
              "              ...         \n",
              "195               Logiciel\n",
              "196               Matériel\n",
              "197    Compte/Mot de passe\n",
              "198               Logiciel\n",
              "199               Logiciel\n",
              "Name: Type de problème, Length: 200, dtype: object"
            ]
          },
          "execution_count": 3,
          "metadata": {},
          "output_type": "execute_result"
        }
      ],
      "source": [
        "colonne_type_problème = df['Type de problème']\n",
        "\n",
        "colonne_type_problème"
      ]
    },
    {
      "cell_type": "markdown",
      "metadata": {
        "id": "fN-6px9fmqS8"
      },
      "source": [
        "Analysons rapidement le jeu de donnée ; apprendre à le connaître peut nous aider à interpréter des résultats avenirs.\n",
        "\n",
        "Nous voulons connaître le nombre d'exemple par classe, par exemple.\n",
        "\n",
        "**Exécutez la cellule ci-dessous pour créer et afficher un nouveau _DataFrame_ avec le compte de chaque type de problème.**\n",
        "\n",
        "Notez qu'il y a un _déséquilibre des classes_ (ex: il y a beaucoup plus de problèmes 'logiciel' que les autres). Ceci n'est pas idéal, mais nous allons continuer tout de même."
      ]
    },
    {
      "cell_type": "code",
      "execution_count": 4,
      "metadata": {
        "id": "-Vf5_mFAlb92"
      },
      "outputs": [
        {
          "data": {
            "text/plain": [
              "Type de problème\n",
              "Logiciel               99\n",
              "Matériel               50\n",
              "Réseau                 24\n",
              "Compte/Mot de passe    22\n",
              "Autre                   5\n",
              "Name: count, dtype: int64"
            ]
          },
          "execution_count": 4,
          "metadata": {},
          "output_type": "execute_result"
        }
      ],
      "source": [
        "compte_problème = colonne_type_problème.value_counts()\n",
        "\n",
        "compte_problème"
      ]
    },
    {
      "cell_type": "markdown",
      "metadata": {
        "id": "c1fCaHrYok5e"
      },
      "source": [
        "# 2 : Prétraitement du jeu de données"
      ]
    },
    {
      "cell_type": "markdown",
      "metadata": {
        "id": "RrBfFKrVopzq"
      },
      "source": [
        "## 2.1 Extraire les exemples et colonnes pertinents\n",
        "\n",
        "Souvent, nous n'avons pas besoin de toute l'information d'un jeu. Pour notre problème, nous n'avons pas besoin des colonnes «ID Ticket», «Date», «Client», et «Priorité».\n",
        "\n",
        "En ce qui concerne les exemples, _tous les exemples_ nous intéressent.\n",
        "\n",
        "**Complétez la cellule ci-dessous en créant la liste `colonne_à_retirer`. La liste doit contenir le nom des colonnes à retirer.**\n",
        "\n",
        "La fonction `.drop(.)` qui s'applique sur notre _DataFrame `df` va retourner un nouveau _DataFrame_ sans les colonnes fournies."
      ]
    },
    {
      "cell_type": "code",
      "execution_count": 5,
      "metadata": {
        "id": "rovKr0NHoohD"
      },
      "outputs": [
        {
          "data": {
            "text/html": [
              "<div>\n",
              "<style scoped>\n",
              "    .dataframe tbody tr th:only-of-type {\n",
              "        vertical-align: middle;\n",
              "    }\n",
              "\n",
              "    .dataframe tbody tr th {\n",
              "        vertical-align: top;\n",
              "    }\n",
              "\n",
              "    .dataframe thead th {\n",
              "        text-align: right;\n",
              "    }\n",
              "</style>\n",
              "<table border=\"1\" class=\"dataframe\">\n",
              "  <thead>\n",
              "    <tr style=\"text-align: right;\">\n",
              "      <th></th>\n",
              "      <th>Description</th>\n",
              "      <th>Type de problème</th>\n",
              "    </tr>\n",
              "  </thead>\n",
              "  <tbody>\n",
              "    <tr>\n",
              "      <th>0</th>\n",
              "      <td>L'ordinateur ne s'allume pas après une mise à ...</td>\n",
              "      <td>Matériel</td>\n",
              "    </tr>\n",
              "    <tr>\n",
              "      <th>1</th>\n",
              "      <td>Impossible d'accéder à Outlook - erreur \"Compt...</td>\n",
              "      <td>Compte/Mot de passe</td>\n",
              "    </tr>\n",
              "    <tr>\n",
              "      <th>2</th>\n",
              "      <td>Le logiciel SAP plante fréquemment lors de la ...</td>\n",
              "      <td>Logiciel</td>\n",
              "    </tr>\n",
              "    <tr>\n",
              "      <th>3</th>\n",
              "      <td>Connexion Wi-Fi lente dans le bâtiment B</td>\n",
              "      <td>Réseau</td>\n",
              "    </tr>\n",
              "    <tr>\n",
              "      <th>4</th>\n",
              "      <td>Impossible d'imprimer depuis le nouveau copieur</td>\n",
              "      <td>Matériel</td>\n",
              "    </tr>\n",
              "    <tr>\n",
              "      <th>...</th>\n",
              "      <td>...</td>\n",
              "      <td>...</td>\n",
              "    </tr>\n",
              "    <tr>\n",
              "      <th>195</th>\n",
              "      <td>Problème de calcul des amortissements</td>\n",
              "      <td>Logiciel</td>\n",
              "    </tr>\n",
              "    <tr>\n",
              "      <th>196</th>\n",
              "      <td>Problème de tactile sur l'écran interactif</td>\n",
              "      <td>Matériel</td>\n",
              "    </tr>\n",
              "    <tr>\n",
              "      <th>197</th>\n",
              "      <td>Demande de configuration des signatures groupées</td>\n",
              "      <td>Compte/Mot de passe</td>\n",
              "    </tr>\n",
              "    <tr>\n",
              "      <th>198</th>\n",
              "      <td>Problème de synchronisation des inventaires</td>\n",
              "      <td>Logiciel</td>\n",
              "    </tr>\n",
              "    <tr>\n",
              "      <th>199</th>\n",
              "      <td>Problème de parallélisation des calculs</td>\n",
              "      <td>Logiciel</td>\n",
              "    </tr>\n",
              "  </tbody>\n",
              "</table>\n",
              "<p>200 rows × 2 columns</p>\n",
              "</div>"
            ],
            "text/plain": [
              "                                           Description     Type de problème\n",
              "0    L'ordinateur ne s'allume pas après une mise à ...             Matériel\n",
              "1    Impossible d'accéder à Outlook - erreur \"Compt...  Compte/Mot de passe\n",
              "2    Le logiciel SAP plante fréquemment lors de la ...             Logiciel\n",
              "3             Connexion Wi-Fi lente dans le bâtiment B               Réseau\n",
              "4      Impossible d'imprimer depuis le nouveau copieur             Matériel\n",
              "..                                                 ...                  ...\n",
              "195              Problème de calcul des amortissements             Logiciel\n",
              "196         Problème de tactile sur l'écran interactif             Matériel\n",
              "197   Demande de configuration des signatures groupées  Compte/Mot de passe\n",
              "198        Problème de synchronisation des inventaires             Logiciel\n",
              "199            Problème de parallélisation des calculs             Logiciel\n",
              "\n",
              "[200 rows x 2 columns]"
            ]
          },
          "execution_count": 5,
          "metadata": {},
          "output_type": "execute_result"
        }
      ],
      "source": [
        "colonne_à_retirer = ['ID Ticket', 'Date', 'Client', 'Priorité']\n",
        "df_classification = df.drop(columns=colonne_à_retirer)\n",
        "\n",
        "df_classification"
      ]
    },
    {
      "cell_type": "markdown",
      "metadata": {
        "id": "YoUQtfY0rP1I"
      },
      "source": [
        "## 2.2 Encodage des classes\n",
        "Allons fournir une séquence à notre modèle et recevoir une classification comme réponse.\n",
        "\n",
        "Nous avions vu comment la séquence de texte se fera transformer en une sequence vecteur de nombre pour le modèle (tokenizer et embedding).\n",
        "\n",
        "Il faut aussi que la classe soit un nombre. Présentement, nos classes sont du texte.\n",
        "\n",
        "Nous allons **encoder** chaque classe en entier.\n",
        "\n",
        "Le module `sklearn.preprocessing` contient un sous-module `LabelEncoder` qui peut facilement faire cette tâche.\n",
        "\n",
        "**Exécutez la cellule ci-dessous**. Un objet `encodeur` est créé et utilisé pour créer un nouveau _DataFrame_ `nouvelle_colonne` contenant les encodages. Cette nouvelle colonne est ajouté à notre `df_classification` avec le nom `Classe`. Il est simple d'ajouter une colonne à un _DateFrame_ !"
      ]
    },
    {
      "cell_type": "code",
      "execution_count": 6,
      "metadata": {
        "id": "5xsAjJEusPij"
      },
      "outputs": [
        {
          "data": {
            "text/html": [
              "<div>\n",
              "<style scoped>\n",
              "    .dataframe tbody tr th:only-of-type {\n",
              "        vertical-align: middle;\n",
              "    }\n",
              "\n",
              "    .dataframe tbody tr th {\n",
              "        vertical-align: top;\n",
              "    }\n",
              "\n",
              "    .dataframe thead th {\n",
              "        text-align: right;\n",
              "    }\n",
              "</style>\n",
              "<table border=\"1\" class=\"dataframe\">\n",
              "  <thead>\n",
              "    <tr style=\"text-align: right;\">\n",
              "      <th></th>\n",
              "      <th>Description</th>\n",
              "      <th>Type de problème</th>\n",
              "      <th>Classe</th>\n",
              "    </tr>\n",
              "  </thead>\n",
              "  <tbody>\n",
              "    <tr>\n",
              "      <th>0</th>\n",
              "      <td>L'ordinateur ne s'allume pas après une mise à ...</td>\n",
              "      <td>Matériel</td>\n",
              "      <td>3</td>\n",
              "    </tr>\n",
              "    <tr>\n",
              "      <th>1</th>\n",
              "      <td>Impossible d'accéder à Outlook - erreur \"Compt...</td>\n",
              "      <td>Compte/Mot de passe</td>\n",
              "      <td>1</td>\n",
              "    </tr>\n",
              "    <tr>\n",
              "      <th>2</th>\n",
              "      <td>Le logiciel SAP plante fréquemment lors de la ...</td>\n",
              "      <td>Logiciel</td>\n",
              "      <td>2</td>\n",
              "    </tr>\n",
              "    <tr>\n",
              "      <th>3</th>\n",
              "      <td>Connexion Wi-Fi lente dans le bâtiment B</td>\n",
              "      <td>Réseau</td>\n",
              "      <td>4</td>\n",
              "    </tr>\n",
              "    <tr>\n",
              "      <th>4</th>\n",
              "      <td>Impossible d'imprimer depuis le nouveau copieur</td>\n",
              "      <td>Matériel</td>\n",
              "      <td>3</td>\n",
              "    </tr>\n",
              "    <tr>\n",
              "      <th>...</th>\n",
              "      <td>...</td>\n",
              "      <td>...</td>\n",
              "      <td>...</td>\n",
              "    </tr>\n",
              "    <tr>\n",
              "      <th>195</th>\n",
              "      <td>Problème de calcul des amortissements</td>\n",
              "      <td>Logiciel</td>\n",
              "      <td>2</td>\n",
              "    </tr>\n",
              "    <tr>\n",
              "      <th>196</th>\n",
              "      <td>Problème de tactile sur l'écran interactif</td>\n",
              "      <td>Matériel</td>\n",
              "      <td>3</td>\n",
              "    </tr>\n",
              "    <tr>\n",
              "      <th>197</th>\n",
              "      <td>Demande de configuration des signatures groupées</td>\n",
              "      <td>Compte/Mot de passe</td>\n",
              "      <td>1</td>\n",
              "    </tr>\n",
              "    <tr>\n",
              "      <th>198</th>\n",
              "      <td>Problème de synchronisation des inventaires</td>\n",
              "      <td>Logiciel</td>\n",
              "      <td>2</td>\n",
              "    </tr>\n",
              "    <tr>\n",
              "      <th>199</th>\n",
              "      <td>Problème de parallélisation des calculs</td>\n",
              "      <td>Logiciel</td>\n",
              "      <td>2</td>\n",
              "    </tr>\n",
              "  </tbody>\n",
              "</table>\n",
              "<p>200 rows × 3 columns</p>\n",
              "</div>"
            ],
            "text/plain": [
              "                                           Description     Type de problème  \\\n",
              "0    L'ordinateur ne s'allume pas après une mise à ...             Matériel   \n",
              "1    Impossible d'accéder à Outlook - erreur \"Compt...  Compte/Mot de passe   \n",
              "2    Le logiciel SAP plante fréquemment lors de la ...             Logiciel   \n",
              "3             Connexion Wi-Fi lente dans le bâtiment B               Réseau   \n",
              "4      Impossible d'imprimer depuis le nouveau copieur             Matériel   \n",
              "..                                                 ...                  ...   \n",
              "195              Problème de calcul des amortissements             Logiciel   \n",
              "196         Problème de tactile sur l'écran interactif             Matériel   \n",
              "197   Demande de configuration des signatures groupées  Compte/Mot de passe   \n",
              "198        Problème de synchronisation des inventaires             Logiciel   \n",
              "199            Problème de parallélisation des calculs             Logiciel   \n",
              "\n",
              "     Classe  \n",
              "0         3  \n",
              "1         1  \n",
              "2         2  \n",
              "3         4  \n",
              "4         3  \n",
              "..      ...  \n",
              "195       2  \n",
              "196       3  \n",
              "197       1  \n",
              "198       2  \n",
              "199       2  \n",
              "\n",
              "[200 rows x 3 columns]"
            ]
          },
          "execution_count": 6,
          "metadata": {},
          "output_type": "execute_result"
        }
      ],
      "source": [
        "from sklearn.preprocessing import LabelEncoder\n",
        "\n",
        "encodeur = LabelEncoder()\n",
        "\n",
        "nouvelle_colonne = encodeur.fit_transform(df_classification['Type de problème'])\n",
        "df_classification['Classe'] = nouvelle_colonne\n",
        "\n",
        "df_classification"
      ]
    },
    {
      "cell_type": "markdown",
      "metadata": {
        "id": "P1vVozMDuPRL"
      },
      "source": [
        "## 2.3 Splits _train_, _validation_, _test_\n",
        "Dans le cadre de l'entraînement d'un modèle de classification, il est essentiel de diviser les données en trois ensembles distincts : train, validation et test.\n",
        "\n",
        "Le jeu d'entraînement (train) permet au modèle d'apprendre les relations entre les données d'entrée et les étiquettes.\n",
        "\n",
        "Le jeu de validation est utilisé pour ajuster les hyperparamètres et évaluer les performances du modèle pendant l'entraînement, afin d'éviter le surapprentissage (overfitting).\n",
        "\n",
        "Enfin, le jeu de test permet de mesurer objectivement la performance finale du modèle sur des données totalement inédites. Cette séparation garantit une évaluation fiable et réaliste de la capacité du modèle à généraliser à de nouveaux cas, ce qui est fondamental pour toute application en production.\n",
        "\n",
        "Nous allons faire des splits 60/20/20 : 60% du jeu de données sera consacré au jeu d'entraînement, 20% au jeu de validation, et le dernier 20% au jeu de tests."
      ]
    },
    {
      "cell_type": "markdown",
      "metadata": {
        "id": "s3AaDajtvlo0"
      },
      "source": [
        "**Exécuter la cellule ci-dessous** pour créer les splits à l'aide de la fonction `train_test_split` du module `sklearn.model_selection`.\n",
        "\n",
        "Vous obtiendrez 6 nouveau _DataFrame_ :\n",
        "\n",
        "*   120 descriptions pour l'entraînement, 40 descriptions pour la validation, et 40 descriptions pour le test\n",
        "*   120 classes pour l'entraînement, 40 classes pour la validation, et 40 classes pour le test\n",
        "\n",
        "Ils se nomment `X_train`, `X_val`, `X_test` et `y_train`, `y_val`, `y_test`."
      ]
    },
    {
      "cell_type": "code",
      "execution_count": 7,
      "metadata": {
        "id": "FrphVDJFtYHo"
      },
      "outputs": [
        {
          "name": "stdout",
          "output_type": "stream",
          "text": [
            "120 40 40\n",
            "120 40 40\n"
          ]
        }
      ],
      "source": [
        "from sklearn.model_selection import train_test_split\n",
        "\n",
        "# caractéristiques et étiquettes\n",
        "X = df_classification['Description'] # nouveau DataFrame avec les descriptions\n",
        "y = df_classification['Classe'] # nouveau DataFrame avec les classes\n",
        "\n",
        "# premier split : 20% test, 80% temporaire\n",
        "X_temp, X_test, y_temp, y_test = train_test_split(\n",
        "    X, y, test_size=0.2, random_state=42, stratify=y\n",
        ")\n",
        "\n",
        "# deuxième split: train + validation (à partir de temporaire)\n",
        "X_train, X_val, y_train, y_val = train_test_split(\n",
        "    X_temp, y_temp, test_size=0.25, random_state=42, stratify=y_temp\n",
        ")\n",
        "\n",
        "print(len(X_train), len(X_val), len(X_test))\n",
        "print(len(y_train), len(y_val), len(y_test))"
      ]
    },
    {
      "cell_type": "markdown",
      "metadata": {
        "id": "ke5elSwby6qR"
      },
      "source": [
        "# 3 : _Tokenize_ les descriptions des 3 splits"
      ]
    },
    {
      "cell_type": "markdown",
      "metadata": {
        "id": "Ba1HwgM50CsE"
      },
      "source": [
        "## 3.1 De _DataFrame_ à listes _Python_\n",
        "Nous allons bientôt utiliser un _tokenizer_ pour transformer les descriptions en séquence de _token_. Le _tokenizer_ fonctionnera sur une liste de texte, et non sur un _DataFrame_.\n",
        "\n",
        "**Complétez la cellule ci-dessous pour créer trois listes (entraînement, validation et test). Notez comment la première est réalisée pour vous.**"
      ]
    },
    {
      "cell_type": "code",
      "execution_count": 8,
      "metadata": {
        "id": "WFHbp_vz1fKc"
      },
      "outputs": [],
      "source": [
        "# 3.1 De DataFrame à listes Python\n",
        "X_train_list = X_train.to_list()\n",
        "X_val_list = X_val.to_list()\n",
        "X_test_list = X_test.to_list()"
      ]
    },
    {
      "cell_type": "markdown",
      "metadata": {
        "id": "XCcmVpaf10zT"
      },
      "source": [
        "## 3.2 Créer le _tokenizer_ pour _BARThez_\n",
        "\n",
        "**Dans la cellule ci-dessous, importez le module nécessaire et créer le _tokenizer_.**\n",
        "\n",
        "Ce même objet pourra créer les _tokens_ pour les 3 splits."
      ]
    },
    {
      "cell_type": "code",
      "execution_count": 9,
      "metadata": {},
      "outputs": [
        {
          "name": "stderr",
          "output_type": "stream",
          "text": [
            "/usr/local/python/3.12.1/lib/python3.12/site-packages/tqdm/auto.py:21: TqdmWarning: IProgress not found. Please update jupyter and ipywidgets. See https://ipywidgets.readthedocs.io/en/stable/user_install.html\n",
            "  from .autonotebook import tqdm as notebook_tqdm\n"
          ]
        }
      ],
      "source": [
        "# 3.2 Créer le tokenizer pour BARThez\n",
        "\n",
        "from transformers import AutoTokenizer\n",
        "\n",
        "tokenizer = AutoTokenizer.from_pretrained(\"moussaKam/barthez\")"
      ]
    },
    {
      "cell_type": "markdown",
      "metadata": {
        "id": "JxLJO1fH3IvC"
      },
      "source": [
        "## 3.3 _Tokenize_ les listes\n",
        "\n",
        "**Utilisez `tokenizer(.)` pour créer les _tokens_ d'entraînement, de validation, et de test.**\n",
        "\n",
        "Donnez premièrement en paramètre la liste à _tokenize_, ensuite donnez les paramètres suivants : `padding=True, truncation=True, return_tensors=\"pt\"`.\n",
        "\n",
        "Exemple : `tokenizer(ma_liste, padding=True, truncation=True, return_tensors=\"pt\")`\n",
        "\n",
        "_L'importance de `padding` et `truncation` ne seront pas expliqué pour le moment._"
      ]
    },
    {
      "cell_type": "code",
      "execution_count": 10,
      "metadata": {
        "id": "kMiuWn9c0spv"
      },
      "outputs": [],
      "source": [
        "# 3.3 Tokenize les listes\n",
        "train_tokens = tokenizer(X_train_list, padding=True, truncation=True, return_tensors=\"pt\")\n",
        "val_tokens = tokenizer(X_val_list, padding=True, truncation=True, return_tensors=\"pt\")\n",
        "test_tokens = tokenizer(X_test_list, padding=True, truncation=True, return_tensors=\"pt\")"
      ]
    },
    {
      "cell_type": "markdown",
      "metadata": {
        "id": "ANkgJEiq4HAR"
      },
      "source": [
        "**Dans la cellule ci-dessous, `print(.)` la séquence de tokens d'entraînement pour valider que le _tokenizer_ a bien fonctionné.**\n",
        "\n",
        "Vous devriez voir un _dictionnaire_ contenant un _tensor_ `input_ids` et un autre _tensor_ `attention_mask`.\n",
        "\n",
        "Un dictionnaire est un type natif à _Python_ qui permet d'associer des valeurs à des mots clef. C'est une structure de données qui permet une organisation simple de plusieurs valeurs."
      ]
    },
    {
      "cell_type": "code",
      "execution_count": 11,
      "metadata": {
        "id": "NmTWq8IY4SrJ"
      },
      "outputs": [
        {
          "name": "stdout",
          "output_type": "stream",
          "text": [
            "{'input_ids': tensor([[    0,   834, 37030,  ...,     1,     1,     1],\n",
            "        [    0, 40253,    10,  ...,     1,     1,     1],\n",
            "        [    0, 31553,     4,  ...,     1,     1,     1],\n",
            "        ...,\n",
            "        [    0, 31553,     4,  ...,     1,     1,     1],\n",
            "        [    0, 31553,    10,  ...,     1,     1,     1],\n",
            "        [    0, 31611,    49,  ...,     1,     1,     1]]), 'attention_mask': tensor([[1, 1, 1,  ..., 0, 0, 0],\n",
            "        [1, 1, 1,  ..., 0, 0, 0],\n",
            "        [1, 1, 1,  ..., 0, 0, 0],\n",
            "        ...,\n",
            "        [1, 1, 1,  ..., 0, 0, 0],\n",
            "        [1, 1, 1,  ..., 0, 0, 0],\n",
            "        [1, 1, 1,  ..., 0, 0, 0]])}\n"
          ]
        }
      ],
      "source": [
        "# Afficher les tokens d'entraînement\n",
        "print(train_tokens)"
      ]
    },
    {
      "cell_type": "markdown",
      "metadata": {
        "id": "FOhOwnnGC2jE"
      },
      "source": [
        "# 4 : Créer le modèle de classification"
      ]
    },
    {
      "cell_type": "markdown",
      "metadata": {
        "id": "n_MDRv99C86o"
      },
      "source": [
        "## 4.1 Importer le module\n",
        "\n",
        "**Importez le sous-module `AutoModelForSequenceClassification` du module `transformers`**.\n",
        "\n",
        "Ce module nous permettra d'instancier un modèle de classification à partir de séquence de texte. Le modèle _BARThez_ est un modèle séquence à séquence, mais l'`AutoModelForSequenceClassification` permettra de créer un modèle de classification en utilisant l'encodeur préentraîné de _BARThez_.\n",
        "\n"
      ]
    },
    {
      "cell_type": "code",
      "execution_count": 12,
      "metadata": {
        "id": "qCTkMdVO4XI5"
      },
      "outputs": [],
      "source": [
        "# 4.1 Importer le module\n",
        "from transformers import AutoModelForSequenceClassification"
      ]
    },
    {
      "cell_type": "markdown",
      "metadata": {
        "id": "S81VajU_F92l"
      },
      "source": [
        "## 4.2 Instanciation du modèle\n",
        "\n",
        "Instanciez le modèle à l'aide de la fonction `AutoModelForSequenceClassification.from_pretrained(.)`.\n",
        "\n",
        "En plus de donner le nom du modèle préentraîné à charger, il faut indiquer le nombre de classes possibles via le paramètre `num_labels = n_classes`.\n",
        "\n",
        "**Obtenez premièrement le nombre de classes et ensuite instanciez le modèle.\n",
        "Ne _hardcode_ pas le nombre de classes (5). Utilisez `len(.)` pour obtenir le nombre de classe de façon dynamique.**"
      ]
    },
    {
      "cell_type": "code",
      "execution_count": 13,
      "metadata": {
        "id": "DcjeXjKEGBg5"
      },
      "outputs": [
        {
          "name": "stderr",
          "output_type": "stream",
          "text": [
            "Some weights of MBartForSequenceClassification were not initialized from the model checkpoint at moussaKam/barthez and are newly initialized: ['classification_head.dense.bias', 'classification_head.dense.weight', 'classification_head.out_proj.bias', 'classification_head.out_proj.weight']\n",
            "You should probably TRAIN this model on a down-stream task to be able to use it for predictions and inference.\n"
          ]
        }
      ],
      "source": [
        "# 4.2 Instanciation du modèle\n",
        "n_classes = len(df_classification['Classe'].unique())\n",
        "model = AutoModelForSequenceClassification.from_pretrained(\"moussaKam/barthez\", num_labels=n_classes)"
      ]
    },
    {
      "cell_type": "markdown",
      "metadata": {
        "id": "qvUbSgOzIOE8"
      },
      "source": [
        "# 5 : Création de _DataSet HuggingFace_"
      ]
    },
    {
      "cell_type": "markdown",
      "metadata": {
        "id": "0AmrrY9uIgUg"
      },
      "source": [
        "## 5.1 Classe personnalisée pour nos données\n",
        "Nous utilisons l'API d'_HuggingFace_ pour la creation du modèle de classification. Nous allons aussi l'utiliser pour l'entraînement du classifieur.\n",
        "\n",
        "l'API s'attend que nos données soient représentées dans des objets _PyTorch DataSet_.\n",
        "\n",
        "Il faut donc prendre nos dictionnaires `train_tokens`, `val_tokens` et `test_tokens` et nos _DataFrame_ `y_train`, `y_val` et `y_test` pour former 3 _DataSet_.\n",
        "\n",
        "**Exécutez la cellule ci-dessous pour déclarer une _classe Python_ qui représentera un _PyTorch DataSet_ de tickets de TI.**"
      ]
    },
    {
      "cell_type": "code",
      "execution_count": 14,
      "metadata": {
        "id": "MPdkDTnhGeJp"
      },
      "outputs": [],
      "source": [
        "from torch.utils.data import Dataset\n",
        "import torch\n",
        "\n",
        "class TicketDataset(Dataset):\n",
        "    def __init__(self, encodings, labels):\n",
        "        self.encodings = encodings\n",
        "        self.labels = labels  # This should be a flat list of ints\n",
        "\n",
        "    def __len__(self):\n",
        "        return len(self.labels)\n",
        "\n",
        "    def __getitem__(self, idx):\n",
        "        item = {key: val[idx] for key, val in self.encodings.items()}\n",
        "        item[\"labels\"] = torch.tensor(self.labels[idx], dtype=torch.long)  # Force scalar tensor\n",
        "        return item"
      ]
    },
    {
      "cell_type": "markdown",
      "metadata": {
        "id": "YDLVzuPzMsK8"
      },
      "source": [
        "## 5.2 Créer les _DataSet_\n",
        "**Complétez la cellule ci-dessous afin d'instancier les trois _DataSet_.**"
      ]
    },
    {
      "cell_type": "code",
      "execution_count": 15,
      "metadata": {
        "id": "YKKO9oNeMtOn"
      },
      "outputs": [],
      "source": [
        "# 5.2 Créer les DataSet\n",
        "train_dataset = TicketDataset(train_tokens, y_train.tolist())\n",
        "val_dataset = TicketDataset(val_tokens, y_val.tolist())\n",
        "test_dataset = TicketDataset(test_tokens, y_test.tolist())"
      ]
    },
    {
      "cell_type": "markdown",
      "metadata": {
        "id": "PG1B5JU0ghcs"
      },
      "source": [
        "# 6 : Entraînement du classifieur"
      ]
    },
    {
      "cell_type": "markdown",
      "metadata": {
        "id": "ca02R_rQV2YI"
      },
      "source": [
        "## 6.1 Configurer l'entraînement\n",
        "**Exécutez la cellule suivante**. Celle-ci créer un objet de configuration `training_args` qui contient des hyperparamètres pour l'entraînement (ex: _learning_rate_, _weight_decay_, etc.) et des informations pour le _logging_ avec _Weights & Biases_.\n",
        "\n",
        "Cette configuration sauvegarde les paramètres optimisés du modèle après chaque itération/époque.\n",
        "\n",
        "Dans ce cas, une itération contient 15 mises-à-jour/_steps_.\n",
        "\n",
        "Nous optimiserons le modèle pour 5 itérations, soit un total de 75 _steps_.\n",
        "\n",
        "Vous obtiendrez un répertoire contenant chaque sauvegarde. Une sauvegarde se nomme un _checkpoint_, en IA.\n",
        "\n",
        "<img src=\"https://i.ibb.co/4gNnBHb6/checkpoints.png\" width=\"20%\">"
      ]
    },
    {
      "cell_type": "code",
      "execution_count": 16,
      "metadata": {
        "colab": {
          "base_uri": "https://localhost:8080/",
          "height": 211
        },
        "id": "qb25RRoeOFV9",
        "outputId": "00e48062-0780-4ead-9611-dcc6f53a8079"
      },
      "outputs": [],
      "source": [
        "from transformers import TrainingArguments\n",
        "\n",
        "training_args = TrainingArguments(\n",
        "    output_dir=\"./results\",\n",
        "    eval_strategy=\"epoch\",\n",
        "    save_strategy=\"epoch\",\n",
        "    logging_strategy=\"epoch\",\n",
        "    learning_rate=2e-5,\n",
        "    per_device_train_batch_size=8,\n",
        "    per_device_eval_batch_size=8,\n",
        "    num_train_epochs=5,\n",
        "    weight_decay=0.01,\n",
        "    report_to=\"wandb\",\n",
        "    metric_for_best_model=\"f1\",\n",
        "    logging_dir=\"./logs\",\n",
        ")\n",
        "\n",
        "model.config.early_stopping = None\n",
        "model.config.num_beams = None\n",
        "model.config.no_repeat_ngram_size = None"
      ]
    },
    {
      "cell_type": "markdown",
      "metadata": {
        "id": "ij4IGp45hHlU"
      },
      "source": [
        "## 6.2 Fonction pour évaluer la précision et score F1\n",
        "**Exécuter la cellule ci-dessous pour déclarer la fonction qui sera utilisée par l'entraîneur afin d'évaluer la précision et le score-F1 du modèle.**"
      ]
    },
    {
      "cell_type": "code",
      "execution_count": 17,
      "metadata": {
        "id": "ZJAras4VNCW-"
      },
      "outputs": [],
      "source": [
        "import numpy as np\n",
        "from sklearn.metrics import accuracy_score, f1_score\n",
        "\n",
        "def compute_metrics(eval_pred):\n",
        "    predictions, labels = eval_pred\n",
        "\n",
        "    if isinstance(predictions, tuple):\n",
        "        predictions = predictions[0]\n",
        "\n",
        "    preds = np.argmax(predictions, axis=1)\n",
        "\n",
        "    return {\n",
        "        \"accuracy\": accuracy_score(labels, preds),\n",
        "        \"f1\": f1_score(labels, preds, average=\"weighted\")\n",
        "    }"
      ]
    },
    {
      "cell_type": "markdown",
      "metadata": {
        "id": "QQr9fXv1gmCF"
      },
      "source": [
        "## 6.3 Créer l'entraîneur avec l'API `Trainer` d'_HuggingFace_\n",
        "\n",
        "**Exécutez la cellule ci-dessous pour créer un objet `trainer`**. Celui-ci indique quel modèle entraîné la configuration ci-dessus et les jeux `train_dataset` et `val_dataset`."
      ]
    },
    {
      "cell_type": "code",
      "execution_count": 18,
      "metadata": {
        "id": "QPn3Z_d3OHDA"
      },
      "outputs": [],
      "source": [
        "from transformers import Trainer\n",
        "\n",
        "trainer = Trainer(\n",
        "    model=model,\n",
        "    args=training_args,\n",
        "    train_dataset=train_dataset,\n",
        "    eval_dataset=val_dataset,\n",
        "    compute_metrics=compute_metrics\n",
        ")"
      ]
    },
    {
      "cell_type": "markdown",
      "metadata": {
        "id": "wfJwhTk5hdZE"
      },
      "source": [
        "## 6.4 Entraîner le modèle !\n",
        "**Exécutez la cellule ci-dessous pour démarrer l'entraînement.**\n",
        "\n",
        "Le paramètre `resume_from_checkpoint=False` est pour indiquer à l'entraîneur «recommencer de 0» l'entraînement, au lieu de continuer l'entraînement à partir du dernier _checkpoint_.\n",
        "\n",
        "**Après l'entraînement**, allez sur le projet «INF717-TP1» dans votre compte _Weights and Biases_ et observez les résultats. Les graphiques les plus importants pour nous sont :\n",
        "\n",
        "*   eval/loss\n",
        "*   train/loss\n",
        "*   eval/f1\n",
        "*   eval/accuracy"
      ]
    },
    {
      "cell_type": "code",
      "execution_count": 19,
      "metadata": {
        "id": "zlr1ImJwOKyZ"
      },
      "outputs": [
        {
          "name": "stderr",
          "output_type": "stream",
          "text": [
            "\u001b[34m\u001b[1mwandb\u001b[0m: Currently logged in as: \u001b[33mdembaseck1010\u001b[0m (\u001b[33mdembaseck1010-universite-de-sherbrooke\u001b[0m) to \u001b[32mhttps://api.wandb.ai\u001b[0m. Use \u001b[1m`wandb login --relogin`\u001b[0m to force relogin\n"
          ]
        },
        {
          "data": {
            "text/html": [
              "Tracking run with wandb version 0.19.11"
            ],
            "text/plain": [
              "<IPython.core.display.HTML object>"
            ]
          },
          "metadata": {},
          "output_type": "display_data"
        },
        {
          "data": {
            "text/html": [
              "Run data is saved locally in <code>/workspaces/tp-INF717/wandb/run-20250607_050300-rx9kossj</code>"
            ],
            "text/plain": [
              "<IPython.core.display.HTML object>"
            ]
          },
          "metadata": {},
          "output_type": "display_data"
        },
        {
          "data": {
            "text/html": [
              "Syncing run <strong><a href='https://wandb.ai/dembaseck1010-universite-de-sherbrooke/INF717-TP1/runs/rx9kossj' target=\"_blank\">true-cherry-3</a></strong> to <a href='https://wandb.ai/dembaseck1010-universite-de-sherbrooke/INF717-TP1' target=\"_blank\">Weights & Biases</a> (<a href='https://wandb.me/developer-guide' target=\"_blank\">docs</a>)<br>"
            ],
            "text/plain": [
              "<IPython.core.display.HTML object>"
            ]
          },
          "metadata": {},
          "output_type": "display_data"
        },
        {
          "data": {
            "text/html": [
              " View project at <a href='https://wandb.ai/dembaseck1010-universite-de-sherbrooke/INF717-TP1' target=\"_blank\">https://wandb.ai/dembaseck1010-universite-de-sherbrooke/INF717-TP1</a>"
            ],
            "text/plain": [
              "<IPython.core.display.HTML object>"
            ]
          },
          "metadata": {},
          "output_type": "display_data"
        },
        {
          "data": {
            "text/html": [
              " View run at <a href='https://wandb.ai/dembaseck1010-universite-de-sherbrooke/INF717-TP1/runs/rx9kossj' target=\"_blank\">https://wandb.ai/dembaseck1010-universite-de-sherbrooke/INF717-TP1/runs/rx9kossj</a>"
            ],
            "text/plain": [
              "<IPython.core.display.HTML object>"
            ]
          },
          "metadata": {},
          "output_type": "display_data"
        },
        {
          "name": "stderr",
          "output_type": "stream",
          "text": [
            "\u001b[34m\u001b[1mwandb\u001b[0m: \u001b[33mWARNING\u001b[0m The `run_name` is currently set to the same value as `TrainingArguments.output_dir`. If this was not intended, please specify a different run name by setting the `TrainingArguments.run_name` parameter.\n"
          ]
        },
        {
          "data": {
            "text/html": [
              "\n",
              "    <div>\n",
              "      \n",
              "      <progress value='75' max='75' style='width:300px; height:20px; vertical-align: middle;'></progress>\n",
              "      [75/75 04:18, Epoch 5/5]\n",
              "    </div>\n",
              "    <table border=\"1\" class=\"dataframe\">\n",
              "  <thead>\n",
              " <tr style=\"text-align: left;\">\n",
              "      <th>Epoch</th>\n",
              "      <th>Training Loss</th>\n",
              "      <th>Validation Loss</th>\n",
              "      <th>Accuracy</th>\n",
              "      <th>F1</th>\n",
              "    </tr>\n",
              "  </thead>\n",
              "  <tbody>\n",
              "    <tr>\n",
              "      <td>1</td>\n",
              "      <td>1.465600</td>\n",
              "      <td>1.274520</td>\n",
              "      <td>0.500000</td>\n",
              "      <td>0.333333</td>\n",
              "    </tr>\n",
              "    <tr>\n",
              "      <td>2</td>\n",
              "      <td>1.218200</td>\n",
              "      <td>1.205225</td>\n",
              "      <td>0.500000</td>\n",
              "      <td>0.333333</td>\n",
              "    </tr>\n",
              "    <tr>\n",
              "      <td>3</td>\n",
              "      <td>1.119300</td>\n",
              "      <td>1.130304</td>\n",
              "      <td>0.500000</td>\n",
              "      <td>0.333333</td>\n",
              "    </tr>\n",
              "    <tr>\n",
              "      <td>4</td>\n",
              "      <td>1.116300</td>\n",
              "      <td>1.086601</td>\n",
              "      <td>0.500000</td>\n",
              "      <td>0.333333</td>\n",
              "    </tr>\n",
              "    <tr>\n",
              "      <td>5</td>\n",
              "      <td>1.036400</td>\n",
              "      <td>1.064135</td>\n",
              "      <td>0.500000</td>\n",
              "      <td>0.333333</td>\n",
              "    </tr>\n",
              "  </tbody>\n",
              "</table><p>"
            ],
            "text/plain": [
              "<IPython.core.display.HTML object>"
            ]
          },
          "metadata": {},
          "output_type": "display_data"
        },
        {
          "data": {
            "text/plain": [
              "TrainOutput(global_step=75, training_loss=1.191159413655599, metrics={'train_runtime': 264.1982, 'train_samples_per_second': 2.271, 'train_steps_per_second': 0.284, 'total_flos': 5391277326000.0, 'train_loss': 1.191159413655599, 'epoch': 5.0})"
            ]
          },
          "execution_count": 19,
          "metadata": {},
          "output_type": "execute_result"
        }
      ],
      "source": [
        "import wandb\n",
        "wandb.init(project=\"INF717-TP1\")\n",
        "trainer.train(resume_from_checkpoint=False)"
      ]
    },
    {
      "cell_type": "markdown",
      "metadata": {
        "id": "3Ll21awGixdv"
      },
      "source": [
        "# 7 : Test du modèle\n",
        "\n",
        "**Exécutez les cellules suivantes pour évaluer le modèle sur le jeu de test.**"
      ]
    },
    {
      "cell_type": "code",
      "execution_count": 20,
      "metadata": {
        "id": "4P5ComDyjEKH"
      },
      "outputs": [
        {
          "data": {
            "text/html": [],
            "text/plain": [
              "<IPython.core.display.HTML object>"
            ]
          },
          "metadata": {},
          "output_type": "display_data"
        },
        {
          "name": "stdout",
          "output_type": "stream",
          "text": [
            "{'eval_loss': 1.0063021183013916, 'eval_accuracy': 0.55, 'eval_f1': 0.42816091954022995, 'eval_runtime': 1.7556, 'eval_samples_per_second': 22.784, 'eval_steps_per_second': 2.848, 'epoch': 5.0}\n"
          ]
        }
      ],
      "source": [
        "test_metrics = trainer.evaluate(test_dataset)\n",
        "print(test_metrics)"
      ]
    },
    {
      "cell_type": "code",
      "execution_count": 24,
      "metadata": {
        "id": "QD231oGTjEdT"
      },
      "outputs": [
        {
          "data": {
            "text/html": [],
            "text/plain": [
              "<IPython.core.display.HTML object>"
            ]
          },
          "metadata": {},
          "output_type": "display_data"
        },
        {
          "name": "stdout",
          "output_type": "stream",
          "text": [
            "Description: Demande de création d'alias email\n",
            "True label: Compte/Mot de passe\n",
            "Predicted: Logiciel\n",
            "--------------------------------------------------\n",
            "Description: Problème de compilation des kernels CUDA\n",
            "True label: Logiciel\n",
            "Predicted: Logiciel\n",
            "--------------------------------------------------\n",
            "Description: L'ordinateur ne s'allume pas après une mise à jour Windows\n",
            "True label: Matériel\n",
            "Predicted: Logiciel\n",
            "--------------------------------------------------\n",
            "Description: Ventilateur du serveur bruyant\n",
            "True label: Matériel\n",
            "Predicted: Logiciel\n",
            "--------------------------------------------------\n",
            "Description: Problème de conversion devise dans SAP\n",
            "True label: Logiciel\n",
            "Predicted: Logiciel\n",
            "--------------------------------------------------\n",
            "Description: Problème d'export des leads depuis Hubspot\n",
            "True label: Logiciel\n",
            "Predicted: Logiciel\n",
            "--------------------------------------------------\n",
            "Description: Problème d'affichage des bannières publicitaires\n",
            "True label: Logiciel\n",
            "Predicted: Logiciel\n",
            "--------------------------------------------------\n",
            "Description: Problème de version des dépendances Python\n",
            "True label: Logiciel\n",
            "Predicted: Logiciel\n",
            "--------------------------------------------------\n",
            "Description: Problème de son sur le système de conférence\n",
            "True label: Matériel\n",
            "Predicted: Logiciel\n",
            "--------------------------------------------------\n",
            "Description: Latence sur appels VoIP\n",
            "True label: Réseau\n",
            "Predicted: Logiciel\n",
            "--------------------------------------------------\n",
            "Description: Impossible de modifier les informations employés\n",
            "True label: Compte/Mot de passe\n",
            "Predicted: Logiciel\n",
            "--------------------------------------------------\n",
            "Description: Problème de génération des attestations employés\n",
            "True label: Logiciel\n",
            "Predicted: Logiciel\n",
            "--------------------------------------------------\n",
            "Description: Écran tactile du showroom ne répond plus\n",
            "True label: Matériel\n",
            "Predicted: Matériel\n",
            "--------------------------------------------------\n",
            "Description: Problème de NAT traversal pour la visioconférence\n",
            "True label: Réseau\n",
            "Predicted: Logiciel\n",
            "--------------------------------------------------\n",
            "Description: DNS interne ne résout pas certains noms\n",
            "True label: Réseau\n",
            "Predicted: Logiciel\n",
            "--------------------------------------------------\n",
            "Description: Impossible de modifier les plannings vacances\n",
            "True label: Logiciel\n",
            "Predicted: Logiciel\n",
            "--------------------------------------------------\n",
            "Description: Problème d'affichage sur le site web mobile\n",
            "True label: Logiciel\n",
            "Predicted: Logiciel\n",
            "--------------------------------------------------\n",
            "Description: Problème de calcul des heures supplémentaires\n",
            "True label: Logiciel\n",
            "Predicted: Logiciel\n",
            "--------------------------------------------------\n",
            "Description: Problème de stabilité avec Docker compose\n",
            "True label: Logiciel\n",
            "Predicted: Logiciel\n",
            "--------------------------------------------------\n",
            "Description: Problème de rapprochement bancaire automatique\n",
            "True label: Logiciel\n",
            "Predicted: Logiciel\n",
            "--------------------------------------------------\n",
            "Description: Problème de compatibilité des fichiers .DOCX\n",
            "True label: Logiciel\n",
            "Predicted: Logiciel\n",
            "--------------------------------------------------\n",
            "Description: Problème de synchronisation des stocks\n",
            "True label: Logiciel\n",
            "Predicted: Logiciel\n",
            "--------------------------------------------------\n",
            "Description: Panne du système de climatisation\n",
            "True label: Autre\n",
            "Predicted: Logiciel\n",
            "--------------------------------------------------\n",
            "Description: Problème de consolidation des comptes\n",
            "True label: Logiciel\n",
            "Predicted: Logiciel\n",
            "--------------------------------------------------\n",
            "Description: Alimentation secteur intermittente\n",
            "True label: Matériel\n",
            "Predicted: Logiciel\n",
            "--------------------------------------------------\n",
            "Description: Demande de création de template de réponse\n",
            "True label: Compte/Mot de passe\n",
            "Predicted: Logiciel\n",
            "--------------------------------------------------\n",
            "Description: Problème de NAT sur le routeur principal\n",
            "True label: Réseau\n",
            "Predicted: Logiciel\n",
            "--------------------------------------------------\n",
            "Description: Impossible d'installer un logiciel spécialisé (erreur admin)\n",
            "True label: Logiciel\n",
            "Predicted: Logiciel\n",
            "--------------------------------------------------\n",
            "Description: Problème de tactile sur tablette de démo\n",
            "True label: Matériel\n",
            "Predicted: Logiciel\n",
            "--------------------------------------------------\n",
            "Description: Problème de microphone sur casque sans fil\n",
            "True label: Matériel\n",
            "Predicted: Logiciel\n",
            "--------------------------------------------------\n",
            "Description: Problème d'interprétation des normes ISO\n",
            "True label: Logiciel\n",
            "Predicted: Logiciel\n",
            "--------------------------------------------------\n",
            "Description: Problème de TVA intracommunautaire\n",
            "True label: Logiciel\n",
            "Predicted: Logiciel\n",
            "--------------------------------------------------\n",
            "Description: Problème de thread safety dans l'application\n",
            "True label: Logiciel\n",
            "Predicted: Logiciel\n",
            "--------------------------------------------------\n",
            "Description: Problème de routage vers les serveurs distants\n",
            "True label: Réseau\n",
            "Predicted: Logiciel\n",
            "--------------------------------------------------\n",
            "Description: Tablette de démonstration ne charge plus\n",
            "True label: Matériel\n",
            "Predicted: Matériel\n",
            "--------------------------------------------------\n",
            "Description: Problème de seuil d'alerte qualité\n",
            "True label: Logiciel\n",
            "Predicted: Logiciel\n",
            "--------------------------------------------------\n",
            "Description: Problème de son sur l'enceinte connectée\n",
            "True label: Matériel\n",
            "Predicted: Logiciel\n",
            "--------------------------------------------------\n",
            "Description: Problème de calcul des écarts types\n",
            "True label: Logiciel\n",
            "Predicted: Logiciel\n",
            "--------------------------------------------------\n",
            "Description: Capteur de température donne des valeurs erronées\n",
            "True label: Matériel\n",
            "Predicted: Logiciel\n",
            "--------------------------------------------------\n",
            "Description: Demande de configuration des règles de boîte mail\n",
            "True label: Compte/Mot de passe\n",
            "Predicted: Logiciel\n",
            "--------------------------------------------------\n"
          ]
        }
      ],
      "source": [
        "predictions = trainer.predict(test_dataset)\n",
        "\n",
        "logits = predictions.predictions\n",
        "if isinstance(logits, tuple):\n",
        "    logits = logits[0]\n",
        "\n",
        "pred_labels = np.argmax(logits, axis=1)\n",
        "true_labels = predictions.label_ids\n",
        "\n",
        "for i in range(len(test_dataset)):\n",
        "    print(\"Description:\", X_test.iloc[i])\n",
        "    print(\"True label:\", encodeur.inverse_transform([true_labels[i]])[0])\n",
        "    print(\"Predicted:\", encodeur.inverse_transform([pred_labels[i]])[0])\n",
        "    print(\"-\" * 50)"
      ]
    }
  ],
  "metadata": {
    "colab": {
      "provenance": []
    },
    "kernelspec": {
      "display_name": "Python 3 (ipykernel)",
      "language": "python",
      "name": "python3"
    },
    "language_info": {
      "codemirror_mode": {
        "name": "ipython",
        "version": 3
      },
      "file_extension": ".py",
      "mimetype": "text/x-python",
      "name": "python",
      "nbconvert_exporter": "python",
      "pygments_lexer": "ipython3",
      "version": "3.12.1"
    }
  },
  "nbformat": 4,
  "nbformat_minor": 0
}
